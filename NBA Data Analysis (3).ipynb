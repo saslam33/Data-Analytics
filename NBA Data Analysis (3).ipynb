{
 "cells":[
  {
   "cell_type":"markdown",
   "source":[
    "# **NBA Analysis**\n",
    "\n",
    "\n",
    "\n",
    "**All data cleaning was done in SQL before importing data**\n",
    "\n",
    "\n",
    "Important Questions that will be anwsered in the analysis\n",
    "\n",
    "1. How has the average height of NBA players changed through out each decade per position?\n",
    "2. How has the average weight changed of NBA players throughout the decades?\n",
    "3. Which University has the most players in the NBA?\n",
    "4. How has the average age of NBA players changed over the years?\n",
    "5. Which position has the most points in this data set?\n",
    "6. Which state has the most NBA players?\n",
    "7. What were Lebron's stats like in 2012? \n",
    "8. MJ Vs Bron career stat comparison"
   ],
   "attachments":{
    
   },
   "metadata":{
    "datalore":{
     "type":"MD",
     "hide_input_from_viewers":false,
     "hide_output_from_viewers":false,
     "node_id":"TxyFwbfHAby2R1TBcqnoza"
    }
   }
  },
  {
   "cell_type":"code",
   "source":[
    "import pandas as pd\n",
    "import numpy as np\n",
    "import matplotlib as mpl\n",
    "import matplotlib.pyplot as plt\n",
    "import seaborn as sns\n",
    "import plotly.express as px\n",
    "import plotly.graph_objects as go"
   ],
   "execution_count":1,
   "outputs":[
    
   ],
   "metadata":{
    "datalore":{
     "type":"CODE",
     "hide_input_from_viewers":false,
     "hide_output_from_viewers":false,
     "node_id":"POYF3V3s6Hya0lUwOFU3Ud"
    }
   }
  },
  {
   "cell_type":"code",
   "source":[
    "players_data = pd.read_csv('players data.csv')\n",
    "players = pd.read_csv('Player.csv')\n",
    "season_stats = pd.read_csv('Season_Stats.csv')"
   ],
   "execution_count":2,
   "outputs":[
    
   ],
   "metadata":{
    "datalore":{
     "type":"CODE",
     "hide_input_from_viewers":false,
     "hide_output_from_viewers":false,
     "node_id":"PMLx8wIObNavvosf9yg5le"
    }
   }
  },
  {
   "cell_type":"code",
   "source":[
    "players ## viewing all data just to be able to see what columns we have and which datasets we need in order to anwser our questions."
   ],
   "execution_count":3,
   "outputs":[
    {
     "data":{
      "text\/html":[
       "<div>\n",
       "<style scoped>\n",
       "    .dataframe tbody tr th:only-of-type {\n",
       "        vertical-align: middle;\n",
       "    }\n",
       "\n",
       "    .dataframe tbody tr th {\n",
       "        vertical-align: top;\n",
       "    }\n",
       "\n",
       "    .dataframe thead th {\n",
       "        text-align: right;\n",
       "    }\n",
       "<\/style>\n",
       "<table border=\"1\" class=\"dataframe\">\n",
       "  <thead>\n",
       "    <tr style=\"text-align: right;\">\n",
       "      <th><\/th>\n",
       "      <th>int64_field_0<\/th>\n",
       "      <th>Player<\/th>\n",
       "      <th>born<\/th>\n",
       "      <th>birth_city<\/th>\n",
       "      <th>birth_state<\/th>\n",
       "      <th>College<\/th>\n",
       "    <\/tr>\n",
       "  <\/thead>\n",
       "  <tbody>\n",
       "    <tr>\n",
       "      <th>0<\/th>\n",
       "      <td>1837<\/td>\n",
       "      <td>Muggsy Bogues<\/td>\n",
       "      <td>1965<\/td>\n",
       "      <td>Baltimore<\/td>\n",
       "      <td>Maryland<\/td>\n",
       "      <td>Wake Forest University<\/td>\n",
       "    <\/tr>\n",
       "    <tr>\n",
       "      <th>1<\/th>\n",
       "      <td>2587<\/td>\n",
       "      <td>Earl Boykins<\/td>\n",
       "      <td>1976<\/td>\n",
       "      <td>Cleveland<\/td>\n",
       "      <td>Ohio<\/td>\n",
       "      <td>Eastern Michigan University<\/td>\n",
       "    <\/tr>\n",
       "    <tr>\n",
       "      <th>2<\/th>\n",
       "      <td>1764<\/td>\n",
       "      <td>Spud Webb<\/td>\n",
       "      <td>1963<\/td>\n",
       "      <td>Dallas<\/td>\n",
       "      <td>Texas<\/td>\n",
       "      <td>North Carolina State University<\/td>\n",
       "    <\/tr>\n",
       "    <tr>\n",
       "      <th>3<\/th>\n",
       "      <td>1215<\/td>\n",
       "      <td>Monte Towe<\/td>\n",
       "      <td>1953<\/td>\n",
       "      <td>Marion<\/td>\n",
       "      <td>Indiana<\/td>\n",
       "      <td>North Carolina State University<\/td>\n",
       "    <\/tr>\n",
       "    <tr>\n",
       "      <th>4<\/th>\n",
       "      <td>1991<\/td>\n",
       "      <td>Greg Grant<\/td>\n",
       "      <td>1966<\/td>\n",
       "      <td>Trenton<\/td>\n",
       "      <td>New Jersey<\/td>\n",
       "      <td>Trenton State University<\/td>\n",
       "    <\/tr>\n",
       "    <tr>\n",
       "      <th>...<\/th>\n",
       "      <td>...<\/td>\n",
       "      <td>...<\/td>\n",
       "      <td>...<\/td>\n",
       "      <td>...<\/td>\n",
       "      <td>...<\/td>\n",
       "      <td>...<\/td>\n",
       "    <\/tr>\n",
       "    <tr>\n",
       "      <th>3184<\/th>\n",
       "      <td>1631<\/td>\n",
       "      <td>Ralph Sampson*<\/td>\n",
       "      <td>1960<\/td>\n",
       "      <td>Harrisonburg<\/td>\n",
       "      <td>Virginia<\/td>\n",
       "      <td>University of Virginia<\/td>\n",
       "    <\/tr>\n",
       "    <tr>\n",
       "      <th>3185<\/th>\n",
       "      <td>1563<\/td>\n",
       "      <td>Chuck Nevitt<\/td>\n",
       "      <td>1959<\/td>\n",
       "      <td>Cortez<\/td>\n",
       "      <td>Colorado<\/td>\n",
       "      <td>North Carolina State University<\/td>\n",
       "    <\/tr>\n",
       "    <tr>\n",
       "      <th>3186<\/th>\n",
       "      <td>3686<\/td>\n",
       "      <td>Sim Bhullar<\/td>\n",
       "      <td>1992<\/td>\n",
       "      <td>Ontario<\/td>\n",
       "      <td>Canada<\/td>\n",
       "      <td>New Mexico State University<\/td>\n",
       "    <\/tr>\n",
       "    <tr>\n",
       "      <th>3187<\/th>\n",
       "      <td>2248<\/td>\n",
       "      <td>Shawn Bradley<\/td>\n",
       "      <td>1972<\/td>\n",
       "      <td>Landstuhl<\/td>\n",
       "      <td>Germany<\/td>\n",
       "      <td>Brigham Young University<\/td>\n",
       "    <\/tr>\n",
       "    <tr>\n",
       "      <th>3188<\/th>\n",
       "      <td>1711<\/td>\n",
       "      <td>Manute Bol<\/td>\n",
       "      <td>1962<\/td>\n",
       "      <td>Gogrial<\/td>\n",
       "      <td>South Sudan<\/td>\n",
       "      <td>University of Bridgeport<\/td>\n",
       "    <\/tr>\n",
       "  <\/tbody>\n",
       "<\/table>\n",
       "<p>3189 rows × 6 columns<\/p>\n",
       "<\/div>"
      ]
     },
     "metadata":{
      
     },
     "output_type":"display_data"
    }
   ],
   "metadata":{
    "datalore":{
     "type":"CODE",
     "hide_input_from_viewers":false,
     "hide_output_from_viewers":false,
     "node_id":"1GD8yAmaZjpXPztSP7KRC9"
    }
   }
  },
  {
   "cell_type":"code",
   "source":[
    "players_data"
   ],
   "execution_count":4,
   "outputs":[
    {
     "data":{
      "text\/html":[
       "<div>\n",
       "<style scoped>\n",
       "    .dataframe tbody tr th:only-of-type {\n",
       "        vertical-align: middle;\n",
       "    }\n",
       "\n",
       "    .dataframe tbody tr th {\n",
       "        vertical-align: top;\n",
       "    }\n",
       "\n",
       "    .dataframe thead th {\n",
       "        text-align: right;\n",
       "    }\n",
       "<\/style>\n",
       "<table border=\"1\" class=\"dataframe\">\n",
       "  <thead>\n",
       "    <tr style=\"text-align: right;\">\n",
       "      <th><\/th>\n",
       "      <th>name<\/th>\n",
       "      <th>year_start<\/th>\n",
       "      <th>year_end<\/th>\n",
       "      <th>position<\/th>\n",
       "      <th>height<\/th>\n",
       "      <th>weight<\/th>\n",
       "      <th>birth_date<\/th>\n",
       "      <th>college<\/th>\n",
       "    <\/tr>\n",
       "  <\/thead>\n",
       "  <tbody>\n",
       "    <tr>\n",
       "      <th>0<\/th>\n",
       "      <td>Mack Calvin<\/td>\n",
       "      <td>1970<\/td>\n",
       "      <td>1981<\/td>\n",
       "      <td>G<\/td>\n",
       "      <td>6'0<\/td>\n",
       "      <td>165<\/td>\n",
       "      <td>27-Jul-47<\/td>\n",
       "      <td>University of Southern California<\/td>\n",
       "    <\/tr>\n",
       "    <tr>\n",
       "      <th>1<\/th>\n",
       "      <td>Billy Evans<\/td>\n",
       "      <td>1970<\/td>\n",
       "      <td>1970<\/td>\n",
       "      <td>G<\/td>\n",
       "      <td>6'0<\/td>\n",
       "      <td>170<\/td>\n",
       "      <td>3-Mar-47<\/td>\n",
       "      <td>Boston College<\/td>\n",
       "    <\/tr>\n",
       "    <tr>\n",
       "      <th>2<\/th>\n",
       "      <td>Calvin Fowler<\/td>\n",
       "      <td>1970<\/td>\n",
       "      <td>1970<\/td>\n",
       "      <td>G<\/td>\n",
       "      <td>6'0<\/td>\n",
       "      <td>175<\/td>\n",
       "      <td>11-Feb-40<\/td>\n",
       "      <td>Saint Francis University<\/td>\n",
       "    <\/tr>\n",
       "    <tr>\n",
       "      <th>3<\/th>\n",
       "      <td>Samuel Little<\/td>\n",
       "      <td>1970<\/td>\n",
       "      <td>1970<\/td>\n",
       "      <td>G<\/td>\n",
       "      <td>6'0<\/td>\n",
       "      <td>180<\/td>\n",
       "      <td>29-Mar-46<\/td>\n",
       "      <td>Delta State University<\/td>\n",
       "    <\/tr>\n",
       "    <tr>\n",
       "      <th>4<\/th>\n",
       "      <td>Gene Littles<\/td>\n",
       "      <td>1970<\/td>\n",
       "      <td>1975<\/td>\n",
       "      <td>G<\/td>\n",
       "      <td>6'0<\/td>\n",
       "      <td>160<\/td>\n",
       "      <td>29-Jun-43<\/td>\n",
       "      <td>High Point University<\/td>\n",
       "    <\/tr>\n",
       "    <tr>\n",
       "      <th>...<\/th>\n",
       "      <td>...<\/td>\n",
       "      <td>...<\/td>\n",
       "      <td>...<\/td>\n",
       "      <td>...<\/td>\n",
       "      <td>...<\/td>\n",
       "      <td>...<\/td>\n",
       "      <td>...<\/td>\n",
       "      <td>...<\/td>\n",
       "    <\/tr>\n",
       "    <tr>\n",
       "      <th>2893<\/th>\n",
       "      <td>David Wear<\/td>\n",
       "      <td>2015<\/td>\n",
       "      <td>2015<\/td>\n",
       "      <td>F<\/td>\n",
       "      <td>6'10<\/td>\n",
       "      <td>230<\/td>\n",
       "      <td>21-Sep-90<\/td>\n",
       "      <td>University of California, Los Angeles<\/td>\n",
       "    <\/tr>\n",
       "    <tr>\n",
       "      <th>2894<\/th>\n",
       "      <td>Travis Wear<\/td>\n",
       "      <td>2015<\/td>\n",
       "      <td>2015<\/td>\n",
       "      <td>F<\/td>\n",
       "      <td>6'10<\/td>\n",
       "      <td>230<\/td>\n",
       "      <td>21-Sep-90<\/td>\n",
       "      <td>University of California, Los Angeles<\/td>\n",
       "    <\/tr>\n",
       "    <tr>\n",
       "      <th>2895<\/th>\n",
       "      <td>Nerlens Noel<\/td>\n",
       "      <td>2015<\/td>\n",
       "      <td>2018<\/td>\n",
       "      <td>C-F<\/td>\n",
       "      <td>6'11<\/td>\n",
       "      <td>228<\/td>\n",
       "      <td>10-Apr-94<\/td>\n",
       "      <td>University of Kentucky<\/td>\n",
       "    <\/tr>\n",
       "    <tr>\n",
       "      <th>2896<\/th>\n",
       "      <td>Dwight Powell<\/td>\n",
       "      <td>2015<\/td>\n",
       "      <td>2018<\/td>\n",
       "      <td>F-C<\/td>\n",
       "      <td>6'11<\/td>\n",
       "      <td>240<\/td>\n",
       "      <td>20-Jul-91<\/td>\n",
       "      <td>Stanford University<\/td>\n",
       "    <\/tr>\n",
       "    <tr>\n",
       "      <th>2897<\/th>\n",
       "      <td>Shayne Whittington<\/td>\n",
       "      <td>2015<\/td>\n",
       "      <td>2016<\/td>\n",
       "      <td>F-C<\/td>\n",
       "      <td>6'11<\/td>\n",
       "      <td>250<\/td>\n",
       "      <td>27-Mar-91<\/td>\n",
       "      <td>Western Michigan University<\/td>\n",
       "    <\/tr>\n",
       "  <\/tbody>\n",
       "<\/table>\n",
       "<p>2898 rows × 8 columns<\/p>\n",
       "<\/div>"
      ]
     },
     "metadata":{
      
     },
     "output_type":"display_data"
    }
   ],
   "metadata":{
    "datalore":{
     "type":"CODE",
     "hide_input_from_viewers":false,
     "hide_output_from_viewers":false,
     "node_id":"CyNS15KbypybIQFJ7Fp6CG"
    }
   }
  },
  {
   "cell_type":"code",
   "source":[
    "season_stats"
   ],
   "execution_count":5,
   "outputs":[
    {
     "data":{
      "text\/html":[
       "<div>\n",
       "<style scoped>\n",
       "    .dataframe tbody tr th:only-of-type {\n",
       "        vertical-align: middle;\n",
       "    }\n",
       "\n",
       "    .dataframe tbody tr th {\n",
       "        vertical-align: top;\n",
       "    }\n",
       "\n",
       "    .dataframe thead th {\n",
       "        text-align: right;\n",
       "    }\n",
       "<\/style>\n",
       "<table border=\"1\" class=\"dataframe\">\n",
       "  <thead>\n",
       "    <tr style=\"text-align: right;\">\n",
       "      <th><\/th>\n",
       "      <th>int64_field_0<\/th>\n",
       "      <th>Year<\/th>\n",
       "      <th>Player<\/th>\n",
       "      <th>Pos<\/th>\n",
       "      <th>Age<\/th>\n",
       "      <th>Tm<\/th>\n",
       "      <th>G<\/th>\n",
       "      <th>GS<\/th>\n",
       "      <th>MP<\/th>\n",
       "      <th>PER<\/th>\n",
       "      <th>...<\/th>\n",
       "      <th>FTA<\/th>\n",
       "      <th>FT_<\/th>\n",
       "      <th>ORB<\/th>\n",
       "      <th>DRB<\/th>\n",
       "      <th>TRB<\/th>\n",
       "      <th>AST<\/th>\n",
       "      <th>STL<\/th>\n",
       "      <th>BLK<\/th>\n",
       "      <th>TOV<\/th>\n",
       "      <th>PTS<\/th>\n",
       "    <\/tr>\n",
       "  <\/thead>\n",
       "  <tbody>\n",
       "    <tr>\n",
       "      <th>0<\/th>\n",
       "      <td>5730<\/td>\n",
       "      <td>1980<\/td>\n",
       "      <td>Tiny Archibald*<\/td>\n",
       "      <td>PG<\/td>\n",
       "      <td>31<\/td>\n",
       "      <td>BOS<\/td>\n",
       "      <td>80<\/td>\n",
       "      <td>80<\/td>\n",
       "      <td>2864<\/td>\n",
       "      <td>15.3<\/td>\n",
       "      <td>...<\/td>\n",
       "      <td>435<\/td>\n",
       "      <td>0.830<\/td>\n",
       "      <td>59<\/td>\n",
       "      <td>138<\/td>\n",
       "      <td>197<\/td>\n",
       "      <td>671<\/td>\n",
       "      <td>106<\/td>\n",
       "      <td>10<\/td>\n",
       "      <td>242<\/td>\n",
       "      <td>1131<\/td>\n",
       "    <\/tr>\n",
       "    <tr>\n",
       "      <th>1<\/th>\n",
       "      <td>5748<\/td>\n",
       "      <td>1980<\/td>\n",
       "      <td>Larry Bird*<\/td>\n",
       "      <td>PF<\/td>\n",
       "      <td>23<\/td>\n",
       "      <td>BOS<\/td>\n",
       "      <td>82<\/td>\n",
       "      <td>82<\/td>\n",
       "      <td>2955<\/td>\n",
       "      <td>20.5<\/td>\n",
       "      <td>...<\/td>\n",
       "      <td>360<\/td>\n",
       "      <td>0.836<\/td>\n",
       "      <td>216<\/td>\n",
       "      <td>636<\/td>\n",
       "      <td>852<\/td>\n",
       "      <td>370<\/td>\n",
       "      <td>143<\/td>\n",
       "      <td>53<\/td>\n",
       "      <td>263<\/td>\n",
       "      <td>1745<\/td>\n",
       "    <\/tr>\n",
       "    <tr>\n",
       "      <th>2<\/th>\n",
       "      <td>5781<\/td>\n",
       "      <td>1980<\/td>\n",
       "      <td>M.L. Carr<\/td>\n",
       "      <td>SF<\/td>\n",
       "      <td>29<\/td>\n",
       "      <td>BOS<\/td>\n",
       "      <td>82<\/td>\n",
       "      <td>7<\/td>\n",
       "      <td>1994<\/td>\n",
       "      <td>14.6<\/td>\n",
       "      <td>...<\/td>\n",
       "      <td>241<\/td>\n",
       "      <td>0.739<\/td>\n",
       "      <td>106<\/td>\n",
       "      <td>224<\/td>\n",
       "      <td>330<\/td>\n",
       "      <td>156<\/td>\n",
       "      <td>120<\/td>\n",
       "      <td>36<\/td>\n",
       "      <td>143<\/td>\n",
       "      <td>914<\/td>\n",
       "    <\/tr>\n",
       "    <tr>\n",
       "      <th>3<\/th>\n",
       "      <td>5901<\/td>\n",
       "      <td>1980<\/td>\n",
       "      <td>Jeff Judkins<\/td>\n",
       "      <td>SF<\/td>\n",
       "      <td>23<\/td>\n",
       "      <td>BOS<\/td>\n",
       "      <td>65<\/td>\n",
       "      <td>0<\/td>\n",
       "      <td>674<\/td>\n",
       "      <td>14.1<\/td>\n",
       "      <td>...<\/td>\n",
       "      <td>76<\/td>\n",
       "      <td>0.816<\/td>\n",
       "      <td>32<\/td>\n",
       "      <td>34<\/td>\n",
       "      <td>66<\/td>\n",
       "      <td>47<\/td>\n",
       "      <td>29<\/td>\n",
       "      <td>5<\/td>\n",
       "      <td>49<\/td>\n",
       "      <td>351<\/td>\n",
       "    <\/tr>\n",
       "    <tr>\n",
       "      <th>4<\/th>\n",
       "      <td>5835<\/td>\n",
       "      <td>1980<\/td>\n",
       "      <td>Chris Ford<\/td>\n",
       "      <td>SG<\/td>\n",
       "      <td>31<\/td>\n",
       "      <td>BOS<\/td>\n",
       "      <td>73<\/td>\n",
       "      <td>73<\/td>\n",
       "      <td>2115<\/td>\n",
       "      <td>13.0<\/td>\n",
       "      <td>...<\/td>\n",
       "      <td>114<\/td>\n",
       "      <td>0.754<\/td>\n",
       "      <td>77<\/td>\n",
       "      <td>104<\/td>\n",
       "      <td>181<\/td>\n",
       "      <td>215<\/td>\n",
       "      <td>111<\/td>\n",
       "      <td>27<\/td>\n",
       "      <td>105<\/td>\n",
       "      <td>816<\/td>\n",
       "    <\/tr>\n",
       "    <tr>\n",
       "      <th>...<\/th>\n",
       "      <td>...<\/td>\n",
       "      <td>...<\/td>\n",
       "      <td>...<\/td>\n",
       "      <td>...<\/td>\n",
       "      <td>...<\/td>\n",
       "      <td>...<\/td>\n",
       "      <td>...<\/td>\n",
       "      <td>...<\/td>\n",
       "      <td>...<\/td>\n",
       "      <td>...<\/td>\n",
       "      <td>...<\/td>\n",
       "      <td>...<\/td>\n",
       "      <td>...<\/td>\n",
       "      <td>...<\/td>\n",
       "      <td>...<\/td>\n",
       "      <td>...<\/td>\n",
       "      <td>...<\/td>\n",
       "      <td>...<\/td>\n",
       "      <td>...<\/td>\n",
       "      <td>...<\/td>\n",
       "      <td>...<\/td>\n",
       "    <\/tr>\n",
       "    <tr>\n",
       "      <th>18141<\/th>\n",
       "      <td>24240<\/td>\n",
       "      <td>2017<\/td>\n",
       "      <td>Jarell Eddie<\/td>\n",
       "      <td>SF<\/td>\n",
       "      <td>25<\/td>\n",
       "      <td>PHO<\/td>\n",
       "      <td>5<\/td>\n",
       "      <td>0<\/td>\n",
       "      <td>62<\/td>\n",
       "      <td>9.7<\/td>\n",
       "      <td>...<\/td>\n",
       "      <td>9<\/td>\n",
       "      <td>0.889<\/td>\n",
       "      <td>1<\/td>\n",
       "      <td>6<\/td>\n",
       "      <td>7<\/td>\n",
       "      <td>0<\/td>\n",
       "      <td>1<\/td>\n",
       "      <td>0<\/td>\n",
       "      <td>1<\/td>\n",
       "      <td>24<\/td>\n",
       "    <\/tr>\n",
       "    <tr>\n",
       "      <th>18142<\/th>\n",
       "      <td>24491<\/td>\n",
       "      <td>2017<\/td>\n",
       "      <td>Andrew Nicholson<\/td>\n",
       "      <td>PF<\/td>\n",
       "      <td>27<\/td>\n",
       "      <td>WAS<\/td>\n",
       "      <td>28<\/td>\n",
       "      <td>0<\/td>\n",
       "      <td>231<\/td>\n",
       "      <td>6.3<\/td>\n",
       "      <td>...<\/td>\n",
       "      <td>12<\/td>\n",
       "      <td>0.583<\/td>\n",
       "      <td>11<\/td>\n",
       "      <td>23<\/td>\n",
       "      <td>34<\/td>\n",
       "      <td>7<\/td>\n",
       "      <td>11<\/td>\n",
       "      <td>6<\/td>\n",
       "      <td>11<\/td>\n",
       "      <td>70<\/td>\n",
       "    <\/tr>\n",
       "    <tr>\n",
       "      <th>18143<\/th>\n",
       "      <td>24247<\/td>\n",
       "      <td>2017<\/td>\n",
       "      <td>Tyler Ennis<\/td>\n",
       "      <td>PG<\/td>\n",
       "      <td>22<\/td>\n",
       "      <td>HOU<\/td>\n",
       "      <td>31<\/td>\n",
       "      <td>0<\/td>\n",
       "      <td>196<\/td>\n",
       "      <td>4.0<\/td>\n",
       "      <td>...<\/td>\n",
       "      <td>3<\/td>\n",
       "      <td>0.667<\/td>\n",
       "      <td>4<\/td>\n",
       "      <td>15<\/td>\n",
       "      <td>19<\/td>\n",
       "      <td>34<\/td>\n",
       "      <td>6<\/td>\n",
       "      <td>0<\/td>\n",
       "      <td>24<\/td>\n",
       "      <td>58<\/td>\n",
       "    <\/tr>\n",
       "    <tr>\n",
       "      <th>18144<\/th>\n",
       "      <td>24544<\/td>\n",
       "      <td>2017<\/td>\n",
       "      <td>Ronnie Price<\/td>\n",
       "      <td>PG<\/td>\n",
       "      <td>33<\/td>\n",
       "      <td>PHO<\/td>\n",
       "      <td>14<\/td>\n",
       "      <td>0<\/td>\n",
       "      <td>134<\/td>\n",
       "      <td>5.9<\/td>\n",
       "      <td>...<\/td>\n",
       "      <td>4<\/td>\n",
       "      <td>0.750<\/td>\n",
       "      <td>3<\/td>\n",
       "      <td>8<\/td>\n",
       "      <td>11<\/td>\n",
       "      <td>18<\/td>\n",
       "      <td>11<\/td>\n",
       "      <td>1<\/td>\n",
       "      <td>3<\/td>\n",
       "      <td>14<\/td>\n",
       "    <\/tr>\n",
       "    <tr>\n",
       "      <th>18145<\/th>\n",
       "      <td>24507<\/td>\n",
       "      <td>2017<\/td>\n",
       "      <td>Kyle O'Quinn<\/td>\n",
       "      <td>C<\/td>\n",
       "      <td>26<\/td>\n",
       "      <td>NYK<\/td>\n",
       "      <td>79<\/td>\n",
       "      <td>8<\/td>\n",
       "      <td>1229<\/td>\n",
       "      <td>20.5<\/td>\n",
       "      <td>...<\/td>\n",
       "      <td>83<\/td>\n",
       "      <td>0.771<\/td>\n",
       "      <td>157<\/td>\n",
       "      <td>282<\/td>\n",
       "      <td>439<\/td>\n",
       "      <td>117<\/td>\n",
       "      <td>36<\/td>\n",
       "      <td>104<\/td>\n",
       "      <td>76<\/td>\n",
       "      <td>496<\/td>\n",
       "    <\/tr>\n",
       "  <\/tbody>\n",
       "<\/table>\n",
       "<p>18146 rows × 40 columns<\/p>\n",
       "<\/div>"
      ]
     },
     "metadata":{
      
     },
     "output_type":"display_data"
    }
   ],
   "metadata":{
    "datalore":{
     "type":"CODE",
     "hide_input_from_viewers":false,
     "hide_output_from_viewers":false,
     "node_id":"SixUi8hPJwWLV3kMrfAQ2i"
    }
   }
  },
  {
   "cell_type":"markdown",
   "source":[
    "\n",
    "\n",
    "\n",
    "`How has the average height of NBA players changed through out each decade per position?`\n",
    "\n",
    "`How has the average weight changed of NBA players throughout the decades?`\n",
    "\n",
    "`How has the average age of NBA players changed over the years?`"
   ],
   "attachments":{
    
   },
   "metadata":{
    "datalore":{
     "type":"MD",
     "hide_input_from_viewers":false,
     "hide_output_from_viewers":false,
     "node_id":"PNmfzbgHAv5RmAuKoxvmPt"
    }
   }
  },
  {
   "cell_type":"code",
   "source":[
    "## We need to use the 'players_data' dataset for this analysis. First we set up our variables to call on them easier.\n",
    "height = sorted(players_data['height'])\n",
    "year_start = players_data['year_start']\n",
    "year_end = players_data['year_end']\n",
    "postition = players_data['position']\n",
    "age = season_stats['Age']\n",
    "\n",
    "\n",
    "plt.rcParams['figure.figsize'] = [12,8]\n",
    "\n",
    "plt.style.use('ggplot')"
   ],
   "execution_count":6,
   "outputs":[
    
   ],
   "metadata":{
    "datalore":{
     "type":"CODE",
     "hide_input_from_viewers":false,
     "hide_output_from_viewers":false,
     "node_id":"1eB6q3s5hqiQVEFJGUygjc"
    }
   }
  },
  {
   "cell_type":"code",
   "source":[
    "players_data['weight'].max()"
   ],
   "execution_count":7,
   "outputs":[
    {
     "data":{
      "text\/plain":[
       "360"
      ]
     },
     "metadata":{
      
     },
     "output_type":"display_data"
    }
   ],
   "metadata":{
    "datalore":{
     "type":"CODE",
     "hide_input_from_viewers":false,
     "hide_output_from_viewers":false,
     "node_id":"2kK70kFPicDHCMMaNPWv5p"
    }
   }
  },
  {
   "cell_type":"code",
   "source":[
    "\n",
    "## First we have to set up a variable to calculate the average height for each decade\n",
    "\n",
    "fig = plt.figure()\n",
    "ax = fig.add_subplot()\n",
    "\n",
    "fig.set_facecolor('#E9E4D4')\n",
    "\n",
    "##ax.set_facecolor('white')\n",
    "\n",
    "ax.set_title('Height Trend Since 1970', fontdict= {'size' : 25})\n",
    "\n",
    "plt.bar(\n",
    "    year_start,\n",
    "    height, \n",
    "    color = '#00A88F')\n",
    "##plt.title('Height Throughout Each Decade' ,fontdict={'size' : 20})\n",
    "plt.xlabel('Decade',\n",
    "           fontdict={'size' : 15})\n",
    "plt.ylabel('Height (In)',\n",
    "           fontdict={'size' : 15})\n",
    "\n",
    "\n"
   ],
   "execution_count":8,
   "outputs":[
    {
     "data":{
      "text\/plain":[
       "Text(0, 0.5, 'Height (In)')"
      ]
     },
     "metadata":{
      
     },
     "output_type":"display_data"
    },
    {
     "data":{
      "image\/png":"[encoded data removed]"
     },
     "metadata":{
      "image\/png":{
       
      }
     },
     "output_type":"display_data"
    }
   ],
   "metadata":{
    "datalore":{
     "type":"CODE",
     "hide_input_from_viewers":false,
     "hide_output_from_viewers":false,
     "node_id":"1pwUE6SJWJM2fk6BeXdquV"
    }
   }
  },
  {
   "cell_type":"code",
   "source":[
    "bins=range(100,350,20)\n",
    "\n",
    "fig = plt.figure()\n",
    "ax = fig.add_subplot()\n",
    "\n",
    "\n",
    "fig.set_facecolor('#E9E4D4')\n",
    "\n",
    "plt.hist(\n",
    "    players_data[\"weight\"],\n",
    "    bins,histtype=\"bar\",\n",
    "    rwidth=1.2,\n",
    "    color='#077368')\n",
    "plt.xlabel('Weight in Kg')\n",
    "plt.ylabel('Count')\n",
    "plt.axvline(players_data[\"weight\"].mean(), \n",
    "            color='black', \n",
    "            linestyle='dashed', \n",
    "            linewidth=2)\n",
    "plt.plot()"
   ],
   "execution_count":9,
   "outputs":[
    {
     "data":{
      "text\/plain":[
       "[]"
      ]
     },
     "metadata":{
      
     },
     "output_type":"display_data"
    },
    {
     "data":{
      "image\/png":"[encoded data removed]"
     },
     "metadata":{
      "image\/png":{
       
      }
     },
     "output_type":"display_data"
    }
   ],
   "metadata":{
    "datalore":{
     "type":"CODE",
     "hide_input_from_viewers":false,
     "hide_output_from_viewers":false,
     "node_id":"dyPEBn3WS1CsKvTYSaeEEN"
    }
   }
  },
  {
   "cell_type":"code",
   "source":[
    "\n",
    "## need this code to extract the indexes that contains the required years\n",
    "year1 = (1970 <= players_data['year_start']) & (players_data['year_start'] <= 1979)\n",
    "year2 = (1980 <= players_data['year_start']) & (players_data['year_start'] <= 1989)\n",
    "year3 = (1990 <= players_data['year_start']) & (players_data['year_start'] <= 1999)\n",
    "year4 = (2000 <= players_data['year_start']) & (players_data['year_start'] <= 2009)\n",
    "year5 = (2010 <= players_data['year_start']) & (players_data['year_start'] <= 2015)\n",
    "\n",
    "\n",
    "## This code was used to extract the desired columns \n",
    "avg70 = players_data.loc[:673 ,['year_start','weight']]\n",
    "avg80 = players_data.loc[674:1304 , ['year_start','weight']]\n",
    "avg90 = players_data.loc[1306:1954, [ 'year_start','weight']]\n",
    "avg00 = players_data.loc[1955:2510, ['year_start','weight']]\n",
    "avg10 = players_data.loc[2511:2899, ['year_start','weight']]\n",
    "\n",
    "## Get the average of the weights for each decades\n",
    "avg_w70 = avg70['weight'].sum()\/673\n",
    "avg_w80 = avg80['weight'].sum()\/632\n",
    "avg_w90 = avg90['weight'].sum()\/649\n",
    "avg_w00 = avg00['weight'].sum()\/555\n",
    "avg_w10 = avg10['weight'].sum()\/388\n",
    "\n",
    "## average = {'70': 201.33, '80': 206.99, '90': 215.12,'00' : 219.72, '10':217.27}"
   ],
   "execution_count":10,
   "outputs":[
    
   ],
   "metadata":{
    "datalore":{
     "type":"CODE",
     "hide_input_from_viewers":false,
     "hide_output_from_viewers":false,
     "node_id":"9H4mOjIYh39Hjul0WnymKO"
    }
   }
  },
  {
   "cell_type":"code",
   "source":[
    "avg_w70"
   ],
   "execution_count":11,
   "outputs":[
    {
     "data":{
      "text\/plain":[
       "201.32838038632985"
      ]
     },
     "metadata":{
      
     },
     "output_type":"display_data"
    }
   ],
   "metadata":{
    "datalore":{
     "type":"CODE",
     "hide_input_from_viewers":false,
     "hide_output_from_viewers":false,
     "node_id":"LX9WOdFBinGU17MPQkjZ0z"
    }
   }
  },
  {
   "cell_type":"code",
   "source":[
    "avg_w80"
   ],
   "execution_count":12,
   "outputs":[
    {
     "data":{
      "text\/plain":[
       "206.99525316455697"
      ]
     },
     "metadata":{
      
     },
     "output_type":"display_data"
    }
   ],
   "metadata":{
    "datalore":{
     "type":"CODE",
     "hide_input_from_viewers":false,
     "hide_output_from_viewers":false,
     "node_id":"cxJIbODIoDBIOzmIDojROi"
    }
   }
  },
  {
   "cell_type":"code",
   "source":[
    "avg_w90"
   ],
   "execution_count":13,
   "outputs":[
    {
     "data":{
      "text\/plain":[
       "215.12018489984592"
      ]
     },
     "metadata":{
      
     },
     "output_type":"display_data"
    }
   ],
   "metadata":{
    "datalore":{
     "type":"CODE",
     "hide_input_from_viewers":false,
     "hide_output_from_viewers":false,
     "node_id":"J0nOkJ9XMoZa2FULXIBsVA"
    }
   }
  },
  {
   "cell_type":"code",
   "source":[
    "avg_w00"
   ],
   "execution_count":14,
   "outputs":[
    {
     "data":{
      "text\/plain":[
       "219.72252252252252"
      ]
     },
     "metadata":{
      
     },
     "output_type":"display_data"
    }
   ],
   "metadata":{
    "datalore":{
     "type":"CODE",
     "hide_input_from_viewers":false,
     "hide_output_from_viewers":false,
     "node_id":"LuGwDiGS8EecMXfdw58mi5"
    }
   }
  },
  {
   "cell_type":"code",
   "source":[
    "avg_w10"
   ],
   "execution_count":15,
   "outputs":[
    {
     "data":{
      "text\/plain":[
       "217.27061855670104"
      ]
     },
     "metadata":{
      
     },
     "output_type":"display_data"
    }
   ],
   "metadata":{
    "datalore":{
     "type":"CODE",
     "hide_input_from_viewers":false,
     "hide_output_from_viewers":false,
     "node_id":"Mq3yRk665vtF2lURUYNxNk"
    }
   }
  },
  {
   "cell_type":"code",
   "source":[
    "np.sum(year1)"
   ],
   "execution_count":16,
   "outputs":[
    {
     "data":{
      "text\/plain":[
       "674"
      ]
     },
     "metadata":{
      
     },
     "output_type":"display_data"
    }
   ],
   "metadata":{
    "datalore":{
     "type":"CODE",
     "hide_input_from_viewers":false,
     "hide_output_from_viewers":false,
     "node_id":"VCQGoEAQJxIzzwxI2m9hDn"
    }
   }
  },
  {
   "cell_type":"code",
   "source":[
    "np.sum(year2)"
   ],
   "execution_count":17,
   "outputs":[
    {
     "data":{
      "text\/plain":[
       "632"
      ]
     },
     "metadata":{
      
     },
     "output_type":"display_data"
    }
   ],
   "metadata":{
    "datalore":{
     "type":"CODE",
     "hide_input_from_viewers":false,
     "hide_output_from_viewers":false,
     "node_id":"EQ1LeUkcBHjcJKI7RV4AoX"
    }
   }
  },
  {
   "cell_type":"code",
   "source":[
    "np.sum(year3)"
   ],
   "execution_count":18,
   "outputs":[
    {
     "data":{
      "text\/plain":[
       "649"
      ]
     },
     "metadata":{
      
     },
     "output_type":"display_data"
    }
   ],
   "metadata":{
    "datalore":{
     "type":"CODE",
     "hide_input_from_viewers":false,
     "hide_output_from_viewers":false,
     "node_id":"yohkd8866u03IlPg1xDahB"
    }
   }
  },
  {
   "cell_type":"code",
   "source":[
    "np.sum(year4)"
   ],
   "execution_count":19,
   "outputs":[
    {
     "data":{
      "text\/plain":[
       "555"
      ]
     },
     "metadata":{
      
     },
     "output_type":"display_data"
    }
   ],
   "metadata":{
    "datalore":{
     "type":"CODE",
     "hide_input_from_viewers":false,
     "hide_output_from_viewers":false,
     "node_id":"CbxjcO2u2UVp2w8rLnCtCA"
    }
   }
  },
  {
   "cell_type":"code",
   "source":[
    "np.sum(year5)"
   ],
   "execution_count":20,
   "outputs":[
    {
     "data":{
      "text\/plain":[
       "388"
      ]
     },
     "metadata":{
      
     },
     "output_type":"display_data"
    }
   ],
   "metadata":{
    "datalore":{
     "type":"CODE",
     "hide_input_from_viewers":false,
     "hide_output_from_viewers":false,
     "node_id":"WrYH5J3oufa4JlBllgEEbt"
    }
   }
  },
  {
   "cell_type":"code",
   "source":[
    "x = ['70s','80s','90s','00s','10s']\n",
    "y = [201.33, 206.99, 215.12,219.72,217.27]\n",
    "\n",
    "fig = plt.figure()\n",
    "ax = fig.add_subplot()\n",
    "\n",
    "fig.set_facecolor('#E9E4D4')\n",
    "\n",
    "\n",
    "plt.plot(x,y, color = '#62BEB6',linewidth = 5, marker ='o',markersize = 15)\n",
    "plt.xlabel('Decade')\n",
    "plt.ylabel('Weight Kg')\n",
    "plt.title('Weight by The Decade', fontdict={'size' : 25})"
   ],
   "execution_count":21,
   "outputs":[
    {
     "data":{
      "text\/plain":[
       "Text(0.5, 1.0, 'Weight by The Decade')"
      ]
     },
     "metadata":{
      
     },
     "output_type":"display_data"
    },
    {
     "data":{
      "image\/png":"[encoded data removed]"
     },
     "metadata":{
      "image\/png":{
       
      }
     },
     "output_type":"display_data"
    }
   ],
   "metadata":{
    "datalore":{
     "type":"CODE",
     "hide_input_from_viewers":false,
     "hide_output_from_viewers":false,
     "node_id":"fFhRieySE64DAIR02JLc9z"
    }
   }
  },
  {
   "cell_type":"code",
   "source":[
    "season_stats.drop(season_stats[season_stats['Pos'] == 'SF-SG'].index, inplace = True)"
   ],
   "execution_count":22,
   "outputs":[
    
   ],
   "metadata":{
    "datalore":{
     "type":"CODE",
     "hide_input_from_viewers":false,
     "hide_output_from_viewers":false,
     "node_id":"DqBaqZvkXc4zO2T2ZX3rcy"
    }
   }
  },
  {
   "cell_type":"code",
   "source":[
    "year_1980s = season_stats.loc[:3109 ,['Year','Age']]\n",
    "year_1990s = season_stats.loc[3109:8489 ,['Year','Age']]\n",
    "year_2000s = season_stats.loc[8489:13902 ,['Year','Age']]\n",
    "year_2010s = season_stats.loc[13902:16977 ,['Year','Age']]\n"
   ],
   "execution_count":23,
   "outputs":[
    
   ],
   "metadata":{
    "datalore":{
     "type":"CODE",
     "hide_input_from_viewers":false,
     "hide_output_from_viewers":false,
     "node_id":"38f0HtBJocqQZAG0XbfVFG"
    }
   }
  },
  {
   "cell_type":"code",
   "source":[
    "age_mean = year_1980s['Age'].mean()\n",
    "print('The average age of an NBA player in the 80s:', age_mean)"
   ],
   "execution_count":24,
   "outputs":[
    {
     "name":"stdout",
     "text":[
      "The average age of an NBA player in the 80s: 26.340952994204766\n"
     ],
     "output_type":"stream"
    }
   ],
   "metadata":{
    "datalore":{
     "type":"CODE",
     "hide_input_from_viewers":false,
     "hide_output_from_viewers":false,
     "node_id":"28s7Hp0NslgF43mCP1SNb9"
    }
   }
  },
  {
   "cell_type":"code",
   "source":[
    "age_mean90 = year_1990s['Age'].mean()\n",
    "print('The average age of an NBA player in the 90s:', age_mean90)"
   ],
   "execution_count":25,
   "outputs":[
    {
     "name":"stdout",
     "text":[
      "The average age of an NBA player in the 90s: 27.23530505952381\n"
     ],
     "output_type":"stream"
    }
   ],
   "metadata":{
    "datalore":{
     "type":"CODE",
     "hide_input_from_viewers":false,
     "hide_output_from_viewers":false,
     "node_id":"BKUDa1R87bLug7mgA9l64Z"
    }
   }
  },
  {
   "cell_type":"code",
   "source":[
    "age_mean00 = year_2000s['Age'].mean()\n",
    "print('The average age of an NBA player in the 2000s:', age_mean00)"
   ],
   "execution_count":26,
   "outputs":[
    {
     "name":"stdout",
     "text":[
      "The average age of an NBA player in the 2000s: 27.041658952045918\n"
     ],
     "output_type":"stream"
    }
   ],
   "metadata":{
    "datalore":{
     "type":"CODE",
     "hide_input_from_viewers":false,
     "hide_output_from_viewers":false,
     "node_id":"Ft5wbe4TR1tDdTAfuvyyVP"
    }
   }
  },
  {
   "cell_type":"code",
   "source":[
    "age_mean10 = year_2000s['Age'].mean()\n",
    "print('The average age of an NBA player in the 2010s:', age_mean10)"
   ],
   "execution_count":27,
   "outputs":[
    {
     "name":"stdout",
     "text":[
      "The average age of an NBA player in the 2010s: 27.041658952045918\n"
     ],
     "output_type":"stream"
    }
   ],
   "metadata":{
    "datalore":{
     "type":"CODE",
     "hide_input_from_viewers":false,
     "hide_output_from_viewers":false,
     "node_id":"xe0EEtGYWVB2Rn3BEk7E1i"
    }
   }
  },
  {
   "cell_type":"code",
   "source":[
    "sns.countplot(x=\"Age\", data = season_stats, palette='Set3')"
   ],
   "execution_count":28,
   "outputs":[
    {
     "data":{
      "text\/plain":[
       "<AxesSubplot:xlabel='Age', ylabel='count'>"
      ]
     },
     "metadata":{
      
     },
     "output_type":"display_data"
    },
    {
     "data":{
      "image\/png":"[encoded data removed]"
     },
     "metadata":{
      "image\/png":{
       
      }
     },
     "output_type":"display_data"
    }
   ],
   "metadata":{
    "datalore":{
     "type":"CODE",
     "hide_input_from_viewers":false,
     "hide_output_from_viewers":false,
     "node_id":"MJCxipXeYZMNKnB9vLobgE"
    }
   }
  },
  {
   "cell_type":"code",
   "source":[
    "\n",
    "season_stats.drop(season_stats [season_stats['Pos'] == 'SF-SG'].index, inplace = True)\n",
    "season_stats.drop(season_stats [season_stats['Pos'] == 'SG-SF'].index, inplace = True)\n",
    "season_stats.drop(season_stats [season_stats['Pos'] == 'C-PF'].index, inplace = True)\n",
    "season_stats.drop(season_stats [season_stats['Pos'] == 'PF-C'].index, inplace = True)\n",
    "season_stats.drop(season_stats [season_stats['Pos'] == 'SF-PF'].index, inplace = True)\n",
    "season_stats.drop(season_stats [season_stats['Pos'] == 'PF-SF'].index, inplace = True)\n",
    "season_stats.drop(season_stats [season_stats['Pos'] == 'PG-SG'].index, inplace = True)\n",
    "season_stats.drop(season_stats [season_stats['Pos'] == 'SG-PG'].index, inplace = True)\n",
    "season_stats.drop(season_stats [season_stats['Pos'] == 'SF-SG'].index, inplace = True)\n",
    "season_stats.drop(season_stats [season_stats['Pos'] == 'C-PF'].index, inplace = True)\n",
    "season_stats.drop(season_stats [season_stats['Pos'] == 'PG-SF'].index, inplace = True)\n",
    "season_stats.drop(season_stats [season_stats['Pos'] == 'SG-PF'].index, inplace = True)\n",
    "season_stats.drop(season_stats [season_stats['Pos'] == 'C-SF'].index, inplace = True)\n",
    "\n",
    "\n",
    "season_stats\n"
   ],
   "execution_count":29,
   "outputs":[
    {
     "data":{
      "text\/html":[
       "<div>\n",
       "<style scoped>\n",
       "    .dataframe tbody tr th:only-of-type {\n",
       "        vertical-align: middle;\n",
       "    }\n",
       "\n",
       "    .dataframe tbody tr th {\n",
       "        vertical-align: top;\n",
       "    }\n",
       "\n",
       "    .dataframe thead th {\n",
       "        text-align: right;\n",
       "    }\n",
       "<\/style>\n",
       "<table border=\"1\" class=\"dataframe\">\n",
       "  <thead>\n",
       "    <tr style=\"text-align: right;\">\n",
       "      <th><\/th>\n",
       "      <th>int64_field_0<\/th>\n",
       "      <th>Year<\/th>\n",
       "      <th>Player<\/th>\n",
       "      <th>Pos<\/th>\n",
       "      <th>Age<\/th>\n",
       "      <th>Tm<\/th>\n",
       "      <th>G<\/th>\n",
       "      <th>GS<\/th>\n",
       "      <th>MP<\/th>\n",
       "      <th>PER<\/th>\n",
       "      <th>...<\/th>\n",
       "      <th>FTA<\/th>\n",
       "      <th>FT_<\/th>\n",
       "      <th>ORB<\/th>\n",
       "      <th>DRB<\/th>\n",
       "      <th>TRB<\/th>\n",
       "      <th>AST<\/th>\n",
       "      <th>STL<\/th>\n",
       "      <th>BLK<\/th>\n",
       "      <th>TOV<\/th>\n",
       "      <th>PTS<\/th>\n",
       "    <\/tr>\n",
       "  <\/thead>\n",
       "  <tbody>\n",
       "    <tr>\n",
       "      <th>0<\/th>\n",
       "      <td>5730<\/td>\n",
       "      <td>1980<\/td>\n",
       "      <td>Tiny Archibald*<\/td>\n",
       "      <td>PG<\/td>\n",
       "      <td>31<\/td>\n",
       "      <td>BOS<\/td>\n",
       "      <td>80<\/td>\n",
       "      <td>80<\/td>\n",
       "      <td>2864<\/td>\n",
       "      <td>15.3<\/td>\n",
       "      <td>...<\/td>\n",
       "      <td>435<\/td>\n",
       "      <td>0.830<\/td>\n",
       "      <td>59<\/td>\n",
       "      <td>138<\/td>\n",
       "      <td>197<\/td>\n",
       "      <td>671<\/td>\n",
       "      <td>106<\/td>\n",
       "      <td>10<\/td>\n",
       "      <td>242<\/td>\n",
       "      <td>1131<\/td>\n",
       "    <\/tr>\n",
       "    <tr>\n",
       "      <th>1<\/th>\n",
       "      <td>5748<\/td>\n",
       "      <td>1980<\/td>\n",
       "      <td>Larry Bird*<\/td>\n",
       "      <td>PF<\/td>\n",
       "      <td>23<\/td>\n",
       "      <td>BOS<\/td>\n",
       "      <td>82<\/td>\n",
       "      <td>82<\/td>\n",
       "      <td>2955<\/td>\n",
       "      <td>20.5<\/td>\n",
       "      <td>...<\/td>\n",
       "      <td>360<\/td>\n",
       "      <td>0.836<\/td>\n",
       "      <td>216<\/td>\n",
       "      <td>636<\/td>\n",
       "      <td>852<\/td>\n",
       "      <td>370<\/td>\n",
       "      <td>143<\/td>\n",
       "      <td>53<\/td>\n",
       "      <td>263<\/td>\n",
       "      <td>1745<\/td>\n",
       "    <\/tr>\n",
       "    <tr>\n",
       "      <th>2<\/th>\n",
       "      <td>5781<\/td>\n",
       "      <td>1980<\/td>\n",
       "      <td>M.L. Carr<\/td>\n",
       "      <td>SF<\/td>\n",
       "      <td>29<\/td>\n",
       "      <td>BOS<\/td>\n",
       "      <td>82<\/td>\n",
       "      <td>7<\/td>\n",
       "      <td>1994<\/td>\n",
       "      <td>14.6<\/td>\n",
       "      <td>...<\/td>\n",
       "      <td>241<\/td>\n",
       "      <td>0.739<\/td>\n",
       "      <td>106<\/td>\n",
       "      <td>224<\/td>\n",
       "      <td>330<\/td>\n",
       "      <td>156<\/td>\n",
       "      <td>120<\/td>\n",
       "      <td>36<\/td>\n",
       "      <td>143<\/td>\n",
       "      <td>914<\/td>\n",
       "    <\/tr>\n",
       "    <tr>\n",
       "      <th>3<\/th>\n",
       "      <td>5901<\/td>\n",
       "      <td>1980<\/td>\n",
       "      <td>Jeff Judkins<\/td>\n",
       "      <td>SF<\/td>\n",
       "      <td>23<\/td>\n",
       "      <td>BOS<\/td>\n",
       "      <td>65<\/td>\n",
       "      <td>0<\/td>\n",
       "      <td>674<\/td>\n",
       "      <td>14.1<\/td>\n",
       "      <td>...<\/td>\n",
       "      <td>76<\/td>\n",
       "      <td>0.816<\/td>\n",
       "      <td>32<\/td>\n",
       "      <td>34<\/td>\n",
       "      <td>66<\/td>\n",
       "      <td>47<\/td>\n",
       "      <td>29<\/td>\n",
       "      <td>5<\/td>\n",
       "      <td>49<\/td>\n",
       "      <td>351<\/td>\n",
       "    <\/tr>\n",
       "    <tr>\n",
       "      <th>4<\/th>\n",
       "      <td>5835<\/td>\n",
       "      <td>1980<\/td>\n",
       "      <td>Chris Ford<\/td>\n",
       "      <td>SG<\/td>\n",
       "      <td>31<\/td>\n",
       "      <td>BOS<\/td>\n",
       "      <td>73<\/td>\n",
       "      <td>73<\/td>\n",
       "      <td>2115<\/td>\n",
       "      <td>13.0<\/td>\n",
       "      <td>...<\/td>\n",
       "      <td>114<\/td>\n",
       "      <td>0.754<\/td>\n",
       "      <td>77<\/td>\n",
       "      <td>104<\/td>\n",
       "      <td>181<\/td>\n",
       "      <td>215<\/td>\n",
       "      <td>111<\/td>\n",
       "      <td>27<\/td>\n",
       "      <td>105<\/td>\n",
       "      <td>816<\/td>\n",
       "    <\/tr>\n",
       "    <tr>\n",
       "      <th>...<\/th>\n",
       "      <td>...<\/td>\n",
       "      <td>...<\/td>\n",
       "      <td>...<\/td>\n",
       "      <td>...<\/td>\n",
       "      <td>...<\/td>\n",
       "      <td>...<\/td>\n",
       "      <td>...<\/td>\n",
       "      <td>...<\/td>\n",
       "      <td>...<\/td>\n",
       "      <td>...<\/td>\n",
       "      <td>...<\/td>\n",
       "      <td>...<\/td>\n",
       "      <td>...<\/td>\n",
       "      <td>...<\/td>\n",
       "      <td>...<\/td>\n",
       "      <td>...<\/td>\n",
       "      <td>...<\/td>\n",
       "      <td>...<\/td>\n",
       "      <td>...<\/td>\n",
       "      <td>...<\/td>\n",
       "      <td>...<\/td>\n",
       "    <\/tr>\n",
       "    <tr>\n",
       "      <th>18141<\/th>\n",
       "      <td>24240<\/td>\n",
       "      <td>2017<\/td>\n",
       "      <td>Jarell Eddie<\/td>\n",
       "      <td>SF<\/td>\n",
       "      <td>25<\/td>\n",
       "      <td>PHO<\/td>\n",
       "      <td>5<\/td>\n",
       "      <td>0<\/td>\n",
       "      <td>62<\/td>\n",
       "      <td>9.7<\/td>\n",
       "      <td>...<\/td>\n",
       "      <td>9<\/td>\n",
       "      <td>0.889<\/td>\n",
       "      <td>1<\/td>\n",
       "      <td>6<\/td>\n",
       "      <td>7<\/td>\n",
       "      <td>0<\/td>\n",
       "      <td>1<\/td>\n",
       "      <td>0<\/td>\n",
       "      <td>1<\/td>\n",
       "      <td>24<\/td>\n",
       "    <\/tr>\n",
       "    <tr>\n",
       "      <th>18142<\/th>\n",
       "      <td>24491<\/td>\n",
       "      <td>2017<\/td>\n",
       "      <td>Andrew Nicholson<\/td>\n",
       "      <td>PF<\/td>\n",
       "      <td>27<\/td>\n",
       "      <td>WAS<\/td>\n",
       "      <td>28<\/td>\n",
       "      <td>0<\/td>\n",
       "      <td>231<\/td>\n",
       "      <td>6.3<\/td>\n",
       "      <td>...<\/td>\n",
       "      <td>12<\/td>\n",
       "      <td>0.583<\/td>\n",
       "      <td>11<\/td>\n",
       "      <td>23<\/td>\n",
       "      <td>34<\/td>\n",
       "      <td>7<\/td>\n",
       "      <td>11<\/td>\n",
       "      <td>6<\/td>\n",
       "      <td>11<\/td>\n",
       "      <td>70<\/td>\n",
       "    <\/tr>\n",
       "    <tr>\n",
       "      <th>18143<\/th>\n",
       "      <td>24247<\/td>\n",
       "      <td>2017<\/td>\n",
       "      <td>Tyler Ennis<\/td>\n",
       "      <td>PG<\/td>\n",
       "      <td>22<\/td>\n",
       "      <td>HOU<\/td>\n",
       "      <td>31<\/td>\n",
       "      <td>0<\/td>\n",
       "      <td>196<\/td>\n",
       "      <td>4.0<\/td>\n",
       "      <td>...<\/td>\n",
       "      <td>3<\/td>\n",
       "      <td>0.667<\/td>\n",
       "      <td>4<\/td>\n",
       "      <td>15<\/td>\n",
       "      <td>19<\/td>\n",
       "      <td>34<\/td>\n",
       "      <td>6<\/td>\n",
       "      <td>0<\/td>\n",
       "      <td>24<\/td>\n",
       "      <td>58<\/td>\n",
       "    <\/tr>\n",
       "    <tr>\n",
       "      <th>18144<\/th>\n",
       "      <td>24544<\/td>\n",
       "      <td>2017<\/td>\n",
       "      <td>Ronnie Price<\/td>\n",
       "      <td>PG<\/td>\n",
       "      <td>33<\/td>\n",
       "      <td>PHO<\/td>\n",
       "      <td>14<\/td>\n",
       "      <td>0<\/td>\n",
       "      <td>134<\/td>\n",
       "      <td>5.9<\/td>\n",
       "      <td>...<\/td>\n",
       "      <td>4<\/td>\n",
       "      <td>0.750<\/td>\n",
       "      <td>3<\/td>\n",
       "      <td>8<\/td>\n",
       "      <td>11<\/td>\n",
       "      <td>18<\/td>\n",
       "      <td>11<\/td>\n",
       "      <td>1<\/td>\n",
       "      <td>3<\/td>\n",
       "      <td>14<\/td>\n",
       "    <\/tr>\n",
       "    <tr>\n",
       "      <th>18145<\/th>\n",
       "      <td>24507<\/td>\n",
       "      <td>2017<\/td>\n",
       "      <td>Kyle O'Quinn<\/td>\n",
       "      <td>C<\/td>\n",
       "      <td>26<\/td>\n",
       "      <td>NYK<\/td>\n",
       "      <td>79<\/td>\n",
       "      <td>8<\/td>\n",
       "      <td>1229<\/td>\n",
       "      <td>20.5<\/td>\n",
       "      <td>...<\/td>\n",
       "      <td>83<\/td>\n",
       "      <td>0.771<\/td>\n",
       "      <td>157<\/td>\n",
       "      <td>282<\/td>\n",
       "      <td>439<\/td>\n",
       "      <td>117<\/td>\n",
       "      <td>36<\/td>\n",
       "      <td>104<\/td>\n",
       "      <td>76<\/td>\n",
       "      <td>496<\/td>\n",
       "    <\/tr>\n",
       "  <\/tbody>\n",
       "<\/table>\n",
       "<p>17948 rows × 40 columns<\/p>\n",
       "<\/div>"
      ]
     },
     "metadata":{
      
     },
     "output_type":"display_data"
    }
   ],
   "metadata":{
    "datalore":{
     "type":"CODE",
     "hide_input_from_viewers":false,
     "hide_output_from_viewers":false,
     "node_id":"jUrUFa0vzEU9pODwW3R4KN"
    }
   }
  },
  {
   "cell_type":"code",
   "source":[
    "\n",
    "college=players_data.groupby(['college'])['height'].count().reset_index().sort_values(by='height',ascending=False)[:10]\n",
    "college.set_index('college',inplace=True)\n",
    "college.columns=['Count']\n",
    "ax=college.plot.bar(width=0.8,color=\"#6978C9\")\n",
    "for p in ax.patches:\n",
    "    ax.annotate(format(p.get_height()), (p.get_x()+0.15, p.get_height()+0.35))\n",
    "plt.show()"
   ],
   "execution_count":30,
   "outputs":[
    {
     "data":{
      "image\/png":"[encoded data removed]"
     },
     "metadata":{
      "image\/png":{
       
      }
     },
     "output_type":"display_data"
    }
   ],
   "metadata":{
    "datalore":{
     "type":"CODE",
     "hide_input_from_viewers":false,
     "hide_output_from_viewers":false,
     "node_id":"AoeZ3enXEi2IxLKB3OVqnn"
    }
   }
  },
  {
   "cell_type":"code",
   "source":[
    "## took out the extra positions because there wasnt enough data to for each of those to include in a meaningful analysis\n",
    "\n",
    "\n",
    "\n",
    "season_stats.drop(season_stats [season_stats['Pos'] == 'SF-SG'].index, inplace = True)\n",
    "season_stats.drop(season_stats [season_stats['Pos'] == 'SG-SF'].index, inplace = True)\n",
    "season_stats.drop(season_stats [season_stats['Pos'] == 'C-PF'].index, inplace = True)\n",
    "season_stats.drop(season_stats [season_stats['Pos'] == 'PF-C'].index, inplace = True)\n",
    "season_stats.drop(season_stats [season_stats['Pos'] == 'SF-PF'].index, inplace = True)\n",
    "season_stats.drop(season_stats [season_stats['Pos'] == 'PF-SF'].index, inplace = True)\n",
    "season_stats.drop(season_stats [season_stats['Pos'] == 'PG-SG'].index, inplace = True)\n",
    "season_stats.drop(season_stats [season_stats['Pos'] == 'SG-PG'].index, inplace = True)\n",
    "season_stats.drop(season_stats [season_stats['Pos'] == 'SF-SG'].index, inplace = True)\n",
    "season_stats.drop(season_stats [season_stats['Pos'] == 'C-PF'].index, inplace = True)\n",
    "season_stats.drop(season_stats [season_stats['Pos'] == 'PG-SF'].index, inplace = True)\n",
    "season_stats.drop(season_stats [season_stats['Pos'] == 'SG-PF'].index, inplace = True)\n",
    "season_stats.drop(season_stats [season_stats['Pos'] == 'C-SF'].index, inplace = True)\n",
    "\n",
    "\n",
    "season_stats"
   ],
   "execution_count":31,
   "outputs":[
    {
     "data":{
      "text\/html":[
       "<div>\n",
       "<style scoped>\n",
       "    .dataframe tbody tr th:only-of-type {\n",
       "        vertical-align: middle;\n",
       "    }\n",
       "\n",
       "    .dataframe tbody tr th {\n",
       "        vertical-align: top;\n",
       "    }\n",
       "\n",
       "    .dataframe thead th {\n",
       "        text-align: right;\n",
       "    }\n",
       "<\/style>\n",
       "<table border=\"1\" class=\"dataframe\">\n",
       "  <thead>\n",
       "    <tr style=\"text-align: right;\">\n",
       "      <th><\/th>\n",
       "      <th>int64_field_0<\/th>\n",
       "      <th>Year<\/th>\n",
       "      <th>Player<\/th>\n",
       "      <th>Pos<\/th>\n",
       "      <th>Age<\/th>\n",
       "      <th>Tm<\/th>\n",
       "      <th>G<\/th>\n",
       "      <th>GS<\/th>\n",
       "      <th>MP<\/th>\n",
       "      <th>PER<\/th>\n",
       "      <th>...<\/th>\n",
       "      <th>FTA<\/th>\n",
       "      <th>FT_<\/th>\n",
       "      <th>ORB<\/th>\n",
       "      <th>DRB<\/th>\n",
       "      <th>TRB<\/th>\n",
       "      <th>AST<\/th>\n",
       "      <th>STL<\/th>\n",
       "      <th>BLK<\/th>\n",
       "      <th>TOV<\/th>\n",
       "      <th>PTS<\/th>\n",
       "    <\/tr>\n",
       "  <\/thead>\n",
       "  <tbody>\n",
       "    <tr>\n",
       "      <th>0<\/th>\n",
       "      <td>5730<\/td>\n",
       "      <td>1980<\/td>\n",
       "      <td>Tiny Archibald*<\/td>\n",
       "      <td>PG<\/td>\n",
       "      <td>31<\/td>\n",
       "      <td>BOS<\/td>\n",
       "      <td>80<\/td>\n",
       "      <td>80<\/td>\n",
       "      <td>2864<\/td>\n",
       "      <td>15.3<\/td>\n",
       "      <td>...<\/td>\n",
       "      <td>435<\/td>\n",
       "      <td>0.830<\/td>\n",
       "      <td>59<\/td>\n",
       "      <td>138<\/td>\n",
       "      <td>197<\/td>\n",
       "      <td>671<\/td>\n",
       "      <td>106<\/td>\n",
       "      <td>10<\/td>\n",
       "      <td>242<\/td>\n",
       "      <td>1131<\/td>\n",
       "    <\/tr>\n",
       "    <tr>\n",
       "      <th>1<\/th>\n",
       "      <td>5748<\/td>\n",
       "      <td>1980<\/td>\n",
       "      <td>Larry Bird*<\/td>\n",
       "      <td>PF<\/td>\n",
       "      <td>23<\/td>\n",
       "      <td>BOS<\/td>\n",
       "      <td>82<\/td>\n",
       "      <td>82<\/td>\n",
       "      <td>2955<\/td>\n",
       "      <td>20.5<\/td>\n",
       "      <td>...<\/td>\n",
       "      <td>360<\/td>\n",
       "      <td>0.836<\/td>\n",
       "      <td>216<\/td>\n",
       "      <td>636<\/td>\n",
       "      <td>852<\/td>\n",
       "      <td>370<\/td>\n",
       "      <td>143<\/td>\n",
       "      <td>53<\/td>\n",
       "      <td>263<\/td>\n",
       "      <td>1745<\/td>\n",
       "    <\/tr>\n",
       "    <tr>\n",
       "      <th>2<\/th>\n",
       "      <td>5781<\/td>\n",
       "      <td>1980<\/td>\n",
       "      <td>M.L. Carr<\/td>\n",
       "      <td>SF<\/td>\n",
       "      <td>29<\/td>\n",
       "      <td>BOS<\/td>\n",
       "      <td>82<\/td>\n",
       "      <td>7<\/td>\n",
       "      <td>1994<\/td>\n",
       "      <td>14.6<\/td>\n",
       "      <td>...<\/td>\n",
       "      <td>241<\/td>\n",
       "      <td>0.739<\/td>\n",
       "      <td>106<\/td>\n",
       "      <td>224<\/td>\n",
       "      <td>330<\/td>\n",
       "      <td>156<\/td>\n",
       "      <td>120<\/td>\n",
       "      <td>36<\/td>\n",
       "      <td>143<\/td>\n",
       "      <td>914<\/td>\n",
       "    <\/tr>\n",
       "    <tr>\n",
       "      <th>3<\/th>\n",
       "      <td>5901<\/td>\n",
       "      <td>1980<\/td>\n",
       "      <td>Jeff Judkins<\/td>\n",
       "      <td>SF<\/td>\n",
       "      <td>23<\/td>\n",
       "      <td>BOS<\/td>\n",
       "      <td>65<\/td>\n",
       "      <td>0<\/td>\n",
       "      <td>674<\/td>\n",
       "      <td>14.1<\/td>\n",
       "      <td>...<\/td>\n",
       "      <td>76<\/td>\n",
       "      <td>0.816<\/td>\n",
       "      <td>32<\/td>\n",
       "      <td>34<\/td>\n",
       "      <td>66<\/td>\n",
       "      <td>47<\/td>\n",
       "      <td>29<\/td>\n",
       "      <td>5<\/td>\n",
       "      <td>49<\/td>\n",
       "      <td>351<\/td>\n",
       "    <\/tr>\n",
       "    <tr>\n",
       "      <th>4<\/th>\n",
       "      <td>5835<\/td>\n",
       "      <td>1980<\/td>\n",
       "      <td>Chris Ford<\/td>\n",
       "      <td>SG<\/td>\n",
       "      <td>31<\/td>\n",
       "      <td>BOS<\/td>\n",
       "      <td>73<\/td>\n",
       "      <td>73<\/td>\n",
       "      <td>2115<\/td>\n",
       "      <td>13.0<\/td>\n",
       "      <td>...<\/td>\n",
       "      <td>114<\/td>\n",
       "      <td>0.754<\/td>\n",
       "      <td>77<\/td>\n",
       "      <td>104<\/td>\n",
       "      <td>181<\/td>\n",
       "      <td>215<\/td>\n",
       "      <td>111<\/td>\n",
       "      <td>27<\/td>\n",
       "      <td>105<\/td>\n",
       "      <td>816<\/td>\n",
       "    <\/tr>\n",
       "    <tr>\n",
       "      <th>...<\/th>\n",
       "      <td>...<\/td>\n",
       "      <td>...<\/td>\n",
       "      <td>...<\/td>\n",
       "      <td>...<\/td>\n",
       "      <td>...<\/td>\n",
       "      <td>...<\/td>\n",
       "      <td>...<\/td>\n",
       "      <td>...<\/td>\n",
       "      <td>...<\/td>\n",
       "      <td>...<\/td>\n",
       "      <td>...<\/td>\n",
       "      <td>...<\/td>\n",
       "      <td>...<\/td>\n",
       "      <td>...<\/td>\n",
       "      <td>...<\/td>\n",
       "      <td>...<\/td>\n",
       "      <td>...<\/td>\n",
       "      <td>...<\/td>\n",
       "      <td>...<\/td>\n",
       "      <td>...<\/td>\n",
       "      <td>...<\/td>\n",
       "    <\/tr>\n",
       "    <tr>\n",
       "      <th>18141<\/th>\n",
       "      <td>24240<\/td>\n",
       "      <td>2017<\/td>\n",
       "      <td>Jarell Eddie<\/td>\n",
       "      <td>SF<\/td>\n",
       "      <td>25<\/td>\n",
       "      <td>PHO<\/td>\n",
       "      <td>5<\/td>\n",
       "      <td>0<\/td>\n",
       "      <td>62<\/td>\n",
       "      <td>9.7<\/td>\n",
       "      <td>...<\/td>\n",
       "      <td>9<\/td>\n",
       "      <td>0.889<\/td>\n",
       "      <td>1<\/td>\n",
       "      <td>6<\/td>\n",
       "      <td>7<\/td>\n",
       "      <td>0<\/td>\n",
       "      <td>1<\/td>\n",
       "      <td>0<\/td>\n",
       "      <td>1<\/td>\n",
       "      <td>24<\/td>\n",
       "    <\/tr>\n",
       "    <tr>\n",
       "      <th>18142<\/th>\n",
       "      <td>24491<\/td>\n",
       "      <td>2017<\/td>\n",
       "      <td>Andrew Nicholson<\/td>\n",
       "      <td>PF<\/td>\n",
       "      <td>27<\/td>\n",
       "      <td>WAS<\/td>\n",
       "      <td>28<\/td>\n",
       "      <td>0<\/td>\n",
       "      <td>231<\/td>\n",
       "      <td>6.3<\/td>\n",
       "      <td>...<\/td>\n",
       "      <td>12<\/td>\n",
       "      <td>0.583<\/td>\n",
       "      <td>11<\/td>\n",
       "      <td>23<\/td>\n",
       "      <td>34<\/td>\n",
       "      <td>7<\/td>\n",
       "      <td>11<\/td>\n",
       "      <td>6<\/td>\n",
       "      <td>11<\/td>\n",
       "      <td>70<\/td>\n",
       "    <\/tr>\n",
       "    <tr>\n",
       "      <th>18143<\/th>\n",
       "      <td>24247<\/td>\n",
       "      <td>2017<\/td>\n",
       "      <td>Tyler Ennis<\/td>\n",
       "      <td>PG<\/td>\n",
       "      <td>22<\/td>\n",
       "      <td>HOU<\/td>\n",
       "      <td>31<\/td>\n",
       "      <td>0<\/td>\n",
       "      <td>196<\/td>\n",
       "      <td>4.0<\/td>\n",
       "      <td>...<\/td>\n",
       "      <td>3<\/td>\n",
       "      <td>0.667<\/td>\n",
       "      <td>4<\/td>\n",
       "      <td>15<\/td>\n",
       "      <td>19<\/td>\n",
       "      <td>34<\/td>\n",
       "      <td>6<\/td>\n",
       "      <td>0<\/td>\n",
       "      <td>24<\/td>\n",
       "      <td>58<\/td>\n",
       "    <\/tr>\n",
       "    <tr>\n",
       "      <th>18144<\/th>\n",
       "      <td>24544<\/td>\n",
       "      <td>2017<\/td>\n",
       "      <td>Ronnie Price<\/td>\n",
       "      <td>PG<\/td>\n",
       "      <td>33<\/td>\n",
       "      <td>PHO<\/td>\n",
       "      <td>14<\/td>\n",
       "      <td>0<\/td>\n",
       "      <td>134<\/td>\n",
       "      <td>5.9<\/td>\n",
       "      <td>...<\/td>\n",
       "      <td>4<\/td>\n",
       "      <td>0.750<\/td>\n",
       "      <td>3<\/td>\n",
       "      <td>8<\/td>\n",
       "      <td>11<\/td>\n",
       "      <td>18<\/td>\n",
       "      <td>11<\/td>\n",
       "      <td>1<\/td>\n",
       "      <td>3<\/td>\n",
       "      <td>14<\/td>\n",
       "    <\/tr>\n",
       "    <tr>\n",
       "      <th>18145<\/th>\n",
       "      <td>24507<\/td>\n",
       "      <td>2017<\/td>\n",
       "      <td>Kyle O'Quinn<\/td>\n",
       "      <td>C<\/td>\n",
       "      <td>26<\/td>\n",
       "      <td>NYK<\/td>\n",
       "      <td>79<\/td>\n",
       "      <td>8<\/td>\n",
       "      <td>1229<\/td>\n",
       "      <td>20.5<\/td>\n",
       "      <td>...<\/td>\n",
       "      <td>83<\/td>\n",
       "      <td>0.771<\/td>\n",
       "      <td>157<\/td>\n",
       "      <td>282<\/td>\n",
       "      <td>439<\/td>\n",
       "      <td>117<\/td>\n",
       "      <td>36<\/td>\n",
       "      <td>104<\/td>\n",
       "      <td>76<\/td>\n",
       "      <td>496<\/td>\n",
       "    <\/tr>\n",
       "  <\/tbody>\n",
       "<\/table>\n",
       "<p>17948 rows × 40 columns<\/p>\n",
       "<\/div>"
      ]
     },
     "metadata":{
      
     },
     "output_type":"display_data"
    }
   ],
   "metadata":{
    "datalore":{
     "type":"CODE",
     "hide_input_from_viewers":false,
     "hide_output_from_viewers":false,
     "node_id":"fjl07PZDxSP9et88GHxWtg"
    }
   }
  },
  {
   "cell_type":"code",
   "source":[
    "\n",
    "## extracted the three coloumns needed for the analysis\n",
    "\n",
    "pos = season_stats.iloc[:,[1,3,-1]]\n",
    "\n",
    "pos.groupby('Year')\n",
    "\n",
    "pos\n",
    "\n",
    "\n",
    "##year = pos['Year'].between(1980,1989, inclusive = True)\n",
    "\n"
   ],
   "execution_count":32,
   "outputs":[
    {
     "data":{
      "text\/html":[
       "<div>\n",
       "<style scoped>\n",
       "    .dataframe tbody tr th:only-of-type {\n",
       "        vertical-align: middle;\n",
       "    }\n",
       "\n",
       "    .dataframe tbody tr th {\n",
       "        vertical-align: top;\n",
       "    }\n",
       "\n",
       "    .dataframe thead th {\n",
       "        text-align: right;\n",
       "    }\n",
       "<\/style>\n",
       "<table border=\"1\" class=\"dataframe\">\n",
       "  <thead>\n",
       "    <tr style=\"text-align: right;\">\n",
       "      <th><\/th>\n",
       "      <th>Year<\/th>\n",
       "      <th>Pos<\/th>\n",
       "      <th>PTS<\/th>\n",
       "    <\/tr>\n",
       "  <\/thead>\n",
       "  <tbody>\n",
       "    <tr>\n",
       "      <th>0<\/th>\n",
       "      <td>1980<\/td>\n",
       "      <td>PG<\/td>\n",
       "      <td>1131<\/td>\n",
       "    <\/tr>\n",
       "    <tr>\n",
       "      <th>1<\/th>\n",
       "      <td>1980<\/td>\n",
       "      <td>PF<\/td>\n",
       "      <td>1745<\/td>\n",
       "    <\/tr>\n",
       "    <tr>\n",
       "      <th>2<\/th>\n",
       "      <td>1980<\/td>\n",
       "      <td>SF<\/td>\n",
       "      <td>914<\/td>\n",
       "    <\/tr>\n",
       "    <tr>\n",
       "      <th>3<\/th>\n",
       "      <td>1980<\/td>\n",
       "      <td>SF<\/td>\n",
       "      <td>351<\/td>\n",
       "    <\/tr>\n",
       "    <tr>\n",
       "      <th>4<\/th>\n",
       "      <td>1980<\/td>\n",
       "      <td>SG<\/td>\n",
       "      <td>816<\/td>\n",
       "    <\/tr>\n",
       "    <tr>\n",
       "      <th>...<\/th>\n",
       "      <td>...<\/td>\n",
       "      <td>...<\/td>\n",
       "      <td>...<\/td>\n",
       "    <\/tr>\n",
       "    <tr>\n",
       "      <th>18141<\/th>\n",
       "      <td>2017<\/td>\n",
       "      <td>SF<\/td>\n",
       "      <td>24<\/td>\n",
       "    <\/tr>\n",
       "    <tr>\n",
       "      <th>18142<\/th>\n",
       "      <td>2017<\/td>\n",
       "      <td>PF<\/td>\n",
       "      <td>70<\/td>\n",
       "    <\/tr>\n",
       "    <tr>\n",
       "      <th>18143<\/th>\n",
       "      <td>2017<\/td>\n",
       "      <td>PG<\/td>\n",
       "      <td>58<\/td>\n",
       "    <\/tr>\n",
       "    <tr>\n",
       "      <th>18144<\/th>\n",
       "      <td>2017<\/td>\n",
       "      <td>PG<\/td>\n",
       "      <td>14<\/td>\n",
       "    <\/tr>\n",
       "    <tr>\n",
       "      <th>18145<\/th>\n",
       "      <td>2017<\/td>\n",
       "      <td>C<\/td>\n",
       "      <td>496<\/td>\n",
       "    <\/tr>\n",
       "  <\/tbody>\n",
       "<\/table>\n",
       "<p>17948 rows × 3 columns<\/p>\n",
       "<\/div>"
      ]
     },
     "metadata":{
      
     },
     "output_type":"display_data"
    }
   ],
   "metadata":{
    "datalore":{
     "type":"CODE",
     "hide_input_from_viewers":false,
     "hide_output_from_viewers":false,
     "node_id":"N0iopjevc3xSW6aiTnWw79"
    }
   }
  },
  {
   "cell_type":"code",
   "source":[
    "PG = pos.loc[pos['Pos'] == 'PG', 'PTS'].mean()\n",
    "SG = pos.loc[pos['Pos'] == 'SG', 'PTS'].mean()\n",
    "SF = pos.loc[pos['Pos'] == 'SF', 'PTS'].mean()\n",
    "PF = pos.loc[pos['Pos'] == 'PF', 'PTS'].mean()\n",
    "C = pos.loc[pos['Pos'] == 'C', 'PTS'].mean()"
   ],
   "execution_count":33,
   "outputs":[
    
   ],
   "metadata":{
    "datalore":{
     "type":"CODE",
     "hide_input_from_viewers":false,
     "hide_output_from_viewers":false,
     "node_id":"aDqMvfANepETcODsrNLNZo"
    }
   }
  },
  {
   "cell_type":"code",
   "source":[
    "PG"
   ],
   "execution_count":34,
   "outputs":[
    {
     "data":{
      "text\/plain":[
       "473.82839745363964"
      ]
     },
     "metadata":{
      
     },
     "output_type":"display_data"
    }
   ],
   "metadata":{
    "datalore":{
     "type":"CODE",
     "hide_input_from_viewers":false,
     "hide_output_from_viewers":false,
     "node_id":"TMdyFlJqiQfmAW6wpQiWvR"
    }
   }
  },
  {
   "cell_type":"code",
   "source":[
    "SG"
   ],
   "execution_count":35,
   "outputs":[
    {
     "data":{
      "text\/plain":[
       "542.9234910739586"
      ]
     },
     "metadata":{
      
     },
     "output_type":"display_data"
    }
   ],
   "metadata":{
    "datalore":{
     "type":"CODE",
     "hide_input_from_viewers":false,
     "hide_output_from_viewers":false,
     "node_id":"8BcKX6Gzq434QvIBRGfVAp"
    }
   }
  },
  {
   "cell_type":"code",
   "source":[
    "SF"
   ],
   "execution_count":36,
   "outputs":[
    {
     "data":{
      "text\/plain":[
       "540.0345939607154"
      ]
     },
     "metadata":{
      
     },
     "output_type":"display_data"
    }
   ],
   "metadata":{
    "datalore":{
     "type":"CODE",
     "hide_input_from_viewers":false,
     "hide_output_from_viewers":false,
     "node_id":"6dabc2pRZ5yppiUtUwwOXq"
    }
   }
  },
  {
   "cell_type":"code",
   "source":[
    "PF"
   ],
   "execution_count":37,
   "outputs":[
    {
     "data":{
      "text\/plain":[
       "469.9320465362242"
      ]
     },
     "metadata":{
      
     },
     "output_type":"display_data"
    }
   ],
   "metadata":{
    "datalore":{
     "type":"CODE",
     "hide_input_from_viewers":false,
     "hide_output_from_viewers":false,
     "node_id":"WLUDyfROnwYj2VYbCqopJc"
    }
   }
  },
  {
   "cell_type":"code",
   "source":[
    "C"
   ],
   "execution_count":38,
   "outputs":[
    {
     "data":{
      "text\/plain":[
       "402.79241627456406"
      ]
     },
     "metadata":{
      
     },
     "output_type":"display_data"
    }
   ],
   "metadata":{
    "datalore":{
     "type":"CODE",
     "hide_input_from_viewers":false,
     "hide_output_from_viewers":false,
     "node_id":"suOjUEvdXpJkUQHfteCiF0"
    }
   }
  },
  {
   "cell_type":"code",
   "source":[
    "x_score = 'PG','SG','SF','PF','C'\n",
    "y_count = [473.83,542.92,540.03,469.93,402.79]\n",
    "explode = [0,0.1,0,0,0]\n",
    "colors= [\"#62BEB6\",\"#00A88F\",\"#077368\",\"#034D44\",\"#0B9A8D\"]\n",
    "\n",
    "##add colors\n",
    "\n",
    "plt.pie(\n",
    "    y_count,\n",
    "    labels=x_score,\n",
    "    labeldistance=1.15, \n",
    "    wedgeprops = { 'linewidth' : 1, 'edgecolor' : 'white' },autopct='%1.2f%%', explode=explode,colors=colors)\n"
   ],
   "execution_count":39,
   "outputs":[
    {
     "data":{
      "text\/plain":[
       "([<matplotlib.patches.Wedge at 0x7f144082ceb0>,\n",
       "  <matplotlib.patches.Wedge at 0x7f1440778520>,\n",
       "  <matplotlib.patches.Wedge at 0x7f1440778a30>,\n",
       "  <matplotlib.patches.Wedge at 0x7f1440787190>,\n",
       "  <matplotlib.patches.Wedge at 0x7f14407878b0>],\n",
       " [Text(0.940805909171586, 0.6613503166006842, 'PG'),\n",
       "  Text(-0.4364522078939588, 1.1713280796704604, 'SG'),\n",
       "  Text(-1.1301123342498864, -0.21294626546683773, 'SF'),\n",
       "  Text(-0.09026131023189139, -1.146452308591693, 'PF'),\n",
       "  Text(0.9975066904978386, -0.5722590343647265, 'C')],\n",
       " [Text(0.4908552569590884, 0.3450523390960092, '19.50%'),\n",
       "  Text(-0.2444132364206169, 0.6559437246154578, '22.35%'),\n",
       "  Text(-0.5896238265651581, -0.1111023993740023, '22.23%'),\n",
       "  Text(-0.04709285751229116, -0.5981490305695789, '19.34%'),\n",
       "  Text(0.5204382733032201, -0.2985699309729008, '16.58%')])"
      ]
     },
     "metadata":{
      
     },
     "output_type":"display_data"
    },
    {
     "data":{
      "image\/png":"[encoded data removed]"
     },
     "metadata":{
      "image\/png":{
       
      }
     },
     "output_type":"display_data"
    }
   ],
   "metadata":{
    "datalore":{
     "type":"CODE",
     "hide_input_from_viewers":false,
     "hide_output_from_viewers":false,
     "node_id":"PFE8tbpvS1fhwbyN6crJTp"
    }
   }
  },
  {
   "cell_type":"code",
   "source":[
    "\n",
    "\n",
    "\n",
    "\n",
    "\n",
    "\n",
    "## have to make 5 seperate graphs per position \n",
    "city=players.groupby(['birth_state'])['born'].count().reset_index().sort_values(by='born',ascending=False)[:10]\n",
    "city.set_index('birth_state',inplace=True)\n",
    "city.columns=['Count']\n",
    "ax=city.plot.bar(width=0.8,color='#62BEB6')\n",
    "for p in ax.patches:\n",
    "    ax.annotate(format(p.get_height()), (p.get_x()+0.15, p.get_height()+1))\n",
    "plt.show()"
   ],
   "execution_count":40,
   "outputs":[
    {
     "data":{
      "image\/png":"[encoded data removed]"
     },
     "metadata":{
      "image\/png":{
       
      }
     },
     "output_type":"display_data"
    }
   ],
   "metadata":{
    "datalore":{
     "type":"CODE",
     "hide_input_from_viewers":false,
     "hide_output_from_viewers":false,
     "node_id":"YFija1cyygJBdGIOACOBhM"
    }
   }
  },
  {
   "cell_type":"code",
   "source":[
    "Bron = season_stats.loc[season_stats['Player'] == 'LeBron James']\n",
    "\n",
    "Bron\n",
    "\n",
    "## First MVP year 2008-09"
   ],
   "execution_count":41,
   "outputs":[
    {
     "data":{
      "text\/html":[
       "<div>\n",
       "<style scoped>\n",
       "    .dataframe tbody tr th:only-of-type {\n",
       "        vertical-align: middle;\n",
       "    }\n",
       "\n",
       "    .dataframe tbody tr th {\n",
       "        vertical-align: top;\n",
       "    }\n",
       "\n",
       "    .dataframe thead th {\n",
       "        text-align: right;\n",
       "    }\n",
       "<\/style>\n",
       "<table border=\"1\" class=\"dataframe\">\n",
       "  <thead>\n",
       "    <tr style=\"text-align: right;\">\n",
       "      <th><\/th>\n",
       "      <th>int64_field_0<\/th>\n",
       "      <th>Year<\/th>\n",
       "      <th>Player<\/th>\n",
       "      <th>Pos<\/th>\n",
       "      <th>Age<\/th>\n",
       "      <th>Tm<\/th>\n",
       "      <th>G<\/th>\n",
       "      <th>GS<\/th>\n",
       "      <th>MP<\/th>\n",
       "      <th>PER<\/th>\n",
       "      <th>...<\/th>\n",
       "      <th>FTA<\/th>\n",
       "      <th>FT_<\/th>\n",
       "      <th>ORB<\/th>\n",
       "      <th>DRB<\/th>\n",
       "      <th>TRB<\/th>\n",
       "      <th>AST<\/th>\n",
       "      <th>STL<\/th>\n",
       "      <th>BLK<\/th>\n",
       "      <th>TOV<\/th>\n",
       "      <th>PTS<\/th>\n",
       "    <\/tr>\n",
       "  <\/thead>\n",
       "  <tbody>\n",
       "    <tr>\n",
       "      <th>10241<\/th>\n",
       "      <td>16746<\/td>\n",
       "      <td>2004<\/td>\n",
       "      <td>LeBron James<\/td>\n",
       "      <td>SG<\/td>\n",
       "      <td>19<\/td>\n",
       "      <td>CLE<\/td>\n",
       "      <td>79<\/td>\n",
       "      <td>79<\/td>\n",
       "      <td>3122<\/td>\n",
       "      <td>18.3<\/td>\n",
       "      <td>...<\/td>\n",
       "      <td>460<\/td>\n",
       "      <td>0.754<\/td>\n",
       "      <td>99<\/td>\n",
       "      <td>333<\/td>\n",
       "      <td>432<\/td>\n",
       "      <td>465<\/td>\n",
       "      <td>130<\/td>\n",
       "      <td>58<\/td>\n",
       "      <td>273<\/td>\n",
       "      <td>1654<\/td>\n",
       "    <\/tr>\n",
       "    <tr>\n",
       "      <th>10709<\/th>\n",
       "      <td>17344<\/td>\n",
       "      <td>2005<\/td>\n",
       "      <td>LeBron James<\/td>\n",
       "      <td>SF<\/td>\n",
       "      <td>20<\/td>\n",
       "      <td>CLE<\/td>\n",
       "      <td>80<\/td>\n",
       "      <td>80<\/td>\n",
       "      <td>3388<\/td>\n",
       "      <td>25.7<\/td>\n",
       "      <td>...<\/td>\n",
       "      <td>636<\/td>\n",
       "      <td>0.750<\/td>\n",
       "      <td>111<\/td>\n",
       "      <td>477<\/td>\n",
       "      <td>588<\/td>\n",
       "      <td>577<\/td>\n",
       "      <td>177<\/td>\n",
       "      <td>52<\/td>\n",
       "      <td>262<\/td>\n",
       "      <td>2175<\/td>\n",
       "    <\/tr>\n",
       "    <tr>\n",
       "      <th>11237<\/th>\n",
       "      <td>17918<\/td>\n",
       "      <td>2006<\/td>\n",
       "      <td>LeBron James<\/td>\n",
       "      <td>SF<\/td>\n",
       "      <td>21<\/td>\n",
       "      <td>CLE<\/td>\n",
       "      <td>79<\/td>\n",
       "      <td>79<\/td>\n",
       "      <td>3361<\/td>\n",
       "      <td>28.1<\/td>\n",
       "      <td>...<\/td>\n",
       "      <td>814<\/td>\n",
       "      <td>0.738<\/td>\n",
       "      <td>75<\/td>\n",
       "      <td>481<\/td>\n",
       "      <td>556<\/td>\n",
       "      <td>521<\/td>\n",
       "      <td>123<\/td>\n",
       "      <td>66<\/td>\n",
       "      <td>260<\/td>\n",
       "      <td>2478<\/td>\n",
       "    <\/tr>\n",
       "    <tr>\n",
       "      <th>11983<\/th>\n",
       "      <td>18460<\/td>\n",
       "      <td>2007<\/td>\n",
       "      <td>LeBron James<\/td>\n",
       "      <td>SF<\/td>\n",
       "      <td>22<\/td>\n",
       "      <td>CLE<\/td>\n",
       "      <td>78<\/td>\n",
       "      <td>78<\/td>\n",
       "      <td>3190<\/td>\n",
       "      <td>24.5<\/td>\n",
       "      <td>...<\/td>\n",
       "      <td>701<\/td>\n",
       "      <td>0.698<\/td>\n",
       "      <td>83<\/td>\n",
       "      <td>443<\/td>\n",
       "      <td>526<\/td>\n",
       "      <td>470<\/td>\n",
       "      <td>125<\/td>\n",
       "      <td>55<\/td>\n",
       "      <td>250<\/td>\n",
       "      <td>2132<\/td>\n",
       "    <\/tr>\n",
       "    <tr>\n",
       "      <th>12374<\/th>\n",
       "      <td>19017<\/td>\n",
       "      <td>2008<\/td>\n",
       "      <td>LeBron James<\/td>\n",
       "      <td>SF<\/td>\n",
       "      <td>23<\/td>\n",
       "      <td>CLE<\/td>\n",
       "      <td>75<\/td>\n",
       "      <td>74<\/td>\n",
       "      <td>3027<\/td>\n",
       "      <td>29.1<\/td>\n",
       "      <td>...<\/td>\n",
       "      <td>771<\/td>\n",
       "      <td>0.712<\/td>\n",
       "      <td>133<\/td>\n",
       "      <td>459<\/td>\n",
       "      <td>592<\/td>\n",
       "      <td>539<\/td>\n",
       "      <td>138<\/td>\n",
       "      <td>81<\/td>\n",
       "      <td>255<\/td>\n",
       "      <td>2250<\/td>\n",
       "    <\/tr>\n",
       "    <tr>\n",
       "      <th>12861<\/th>\n",
       "      <td>19611<\/td>\n",
       "      <td>2009<\/td>\n",
       "      <td>LeBron James<\/td>\n",
       "      <td>SF<\/td>\n",
       "      <td>24<\/td>\n",
       "      <td>CLE<\/td>\n",
       "      <td>81<\/td>\n",
       "      <td>81<\/td>\n",
       "      <td>3054<\/td>\n",
       "      <td>31.7<\/td>\n",
       "      <td>...<\/td>\n",
       "      <td>762<\/td>\n",
       "      <td>0.780<\/td>\n",
       "      <td>106<\/td>\n",
       "      <td>507<\/td>\n",
       "      <td>613<\/td>\n",
       "      <td>587<\/td>\n",
       "      <td>137<\/td>\n",
       "      <td>93<\/td>\n",
       "      <td>241<\/td>\n",
       "      <td>2304<\/td>\n",
       "    <\/tr>\n",
       "    <tr>\n",
       "      <th>13691<\/th>\n",
       "      <td>20207<\/td>\n",
       "      <td>2010<\/td>\n",
       "      <td>LeBron James<\/td>\n",
       "      <td>SF<\/td>\n",
       "      <td>25<\/td>\n",
       "      <td>CLE<\/td>\n",
       "      <td>76<\/td>\n",
       "      <td>76<\/td>\n",
       "      <td>2966<\/td>\n",
       "      <td>31.1<\/td>\n",
       "      <td>...<\/td>\n",
       "      <td>773<\/td>\n",
       "      <td>0.767<\/td>\n",
       "      <td>71<\/td>\n",
       "      <td>483<\/td>\n",
       "      <td>554<\/td>\n",
       "      <td>651<\/td>\n",
       "      <td>125<\/td>\n",
       "      <td>77<\/td>\n",
       "      <td>261<\/td>\n",
       "      <td>2258<\/td>\n",
       "    <\/tr>\n",
       "    <tr>\n",
       "      <th>14057<\/th>\n",
       "      <td>20812<\/td>\n",
       "      <td>2011<\/td>\n",
       "      <td>LeBron James<\/td>\n",
       "      <td>SF<\/td>\n",
       "      <td>26<\/td>\n",
       "      <td>MIA<\/td>\n",
       "      <td>79<\/td>\n",
       "      <td>79<\/td>\n",
       "      <td>3063<\/td>\n",
       "      <td>27.3<\/td>\n",
       "      <td>...<\/td>\n",
       "      <td>663<\/td>\n",
       "      <td>0.759<\/td>\n",
       "      <td>80<\/td>\n",
       "      <td>510<\/td>\n",
       "      <td>590<\/td>\n",
       "      <td>554<\/td>\n",
       "      <td>124<\/td>\n",
       "      <td>50<\/td>\n",
       "      <td>284<\/td>\n",
       "      <td>2111<\/td>\n",
       "    <\/tr>\n",
       "    <tr>\n",
       "      <th>14620<\/th>\n",
       "      <td>21395<\/td>\n",
       "      <td>2012<\/td>\n",
       "      <td>LeBron James<\/td>\n",
       "      <td>SF<\/td>\n",
       "      <td>27<\/td>\n",
       "      <td>MIA<\/td>\n",
       "      <td>62<\/td>\n",
       "      <td>62<\/td>\n",
       "      <td>2326<\/td>\n",
       "      <td>30.7<\/td>\n",
       "      <td>...<\/td>\n",
       "      <td>502<\/td>\n",
       "      <td>0.771<\/td>\n",
       "      <td>94<\/td>\n",
       "      <td>398<\/td>\n",
       "      <td>492<\/td>\n",
       "      <td>387<\/td>\n",
       "      <td>115<\/td>\n",
       "      <td>50<\/td>\n",
       "      <td>213<\/td>\n",
       "      <td>1683<\/td>\n",
       "    <\/tr>\n",
       "    <tr>\n",
       "      <th>15456<\/th>\n",
       "      <td>21933<\/td>\n",
       "      <td>2013<\/td>\n",
       "      <td>LeBron James<\/td>\n",
       "      <td>PF<\/td>\n",
       "      <td>28<\/td>\n",
       "      <td>MIA<\/td>\n",
       "      <td>76<\/td>\n",
       "      <td>76<\/td>\n",
       "      <td>2877<\/td>\n",
       "      <td>31.6<\/td>\n",
       "      <td>...<\/td>\n",
       "      <td>535<\/td>\n",
       "      <td>0.753<\/td>\n",
       "      <td>97<\/td>\n",
       "      <td>513<\/td>\n",
       "      <td>610<\/td>\n",
       "      <td>551<\/td>\n",
       "      <td>129<\/td>\n",
       "      <td>67<\/td>\n",
       "      <td>226<\/td>\n",
       "      <td>2036<\/td>\n",
       "    <\/tr>\n",
       "    <tr>\n",
       "      <th>15918<\/th>\n",
       "      <td>22548<\/td>\n",
       "      <td>2014<\/td>\n",
       "      <td>LeBron James<\/td>\n",
       "      <td>PF<\/td>\n",
       "      <td>29<\/td>\n",
       "      <td>MIA<\/td>\n",
       "      <td>77<\/td>\n",
       "      <td>77<\/td>\n",
       "      <td>2902<\/td>\n",
       "      <td>29.3<\/td>\n",
       "      <td>...<\/td>\n",
       "      <td>585<\/td>\n",
       "      <td>0.750<\/td>\n",
       "      <td>81<\/td>\n",
       "      <td>452<\/td>\n",
       "      <td>533<\/td>\n",
       "      <td>488<\/td>\n",
       "      <td>121<\/td>\n",
       "      <td>26<\/td>\n",
       "      <td>270<\/td>\n",
       "      <td>2089<\/td>\n",
       "    <\/tr>\n",
       "    <tr>\n",
       "      <th>16406<\/th>\n",
       "      <td>23154<\/td>\n",
       "      <td>2015<\/td>\n",
       "      <td>LeBron James<\/td>\n",
       "      <td>SF<\/td>\n",
       "      <td>30<\/td>\n",
       "      <td>CLE<\/td>\n",
       "      <td>69<\/td>\n",
       "      <td>69<\/td>\n",
       "      <td>2493<\/td>\n",
       "      <td>25.9<\/td>\n",
       "      <td>...<\/td>\n",
       "      <td>528<\/td>\n",
       "      <td>0.710<\/td>\n",
       "      <td>51<\/td>\n",
       "      <td>365<\/td>\n",
       "      <td>416<\/td>\n",
       "      <td>511<\/td>\n",
       "      <td>109<\/td>\n",
       "      <td>49<\/td>\n",
       "      <td>272<\/td>\n",
       "      <td>1743<\/td>\n",
       "    <\/tr>\n",
       "    <tr>\n",
       "      <th>17002<\/th>\n",
       "      <td>23781<\/td>\n",
       "      <td>2016<\/td>\n",
       "      <td>LeBron James<\/td>\n",
       "      <td>SF<\/td>\n",
       "      <td>31<\/td>\n",
       "      <td>CLE<\/td>\n",
       "      <td>76<\/td>\n",
       "      <td>76<\/td>\n",
       "      <td>2709<\/td>\n",
       "      <td>27.5<\/td>\n",
       "      <td>...<\/td>\n",
       "      <td>491<\/td>\n",
       "      <td>0.731<\/td>\n",
       "      <td>111<\/td>\n",
       "      <td>454<\/td>\n",
       "      <td>565<\/td>\n",
       "      <td>514<\/td>\n",
       "      <td>104<\/td>\n",
       "      <td>49<\/td>\n",
       "      <td>249<\/td>\n",
       "      <td>1920<\/td>\n",
       "    <\/tr>\n",
       "    <tr>\n",
       "      <th>17572<\/th>\n",
       "      <td>24365<\/td>\n",
       "      <td>2017<\/td>\n",
       "      <td>LeBron James<\/td>\n",
       "      <td>SF<\/td>\n",
       "      <td>32<\/td>\n",
       "      <td>CLE<\/td>\n",
       "      <td>74<\/td>\n",
       "      <td>74<\/td>\n",
       "      <td>2794<\/td>\n",
       "      <td>27.0<\/td>\n",
       "      <td>...<\/td>\n",
       "      <td>531<\/td>\n",
       "      <td>0.674<\/td>\n",
       "      <td>97<\/td>\n",
       "      <td>543<\/td>\n",
       "      <td>640<\/td>\n",
       "      <td>646<\/td>\n",
       "      <td>92<\/td>\n",
       "      <td>44<\/td>\n",
       "      <td>303<\/td>\n",
       "      <td>1954<\/td>\n",
       "    <\/tr>\n",
       "  <\/tbody>\n",
       "<\/table>\n",
       "<p>14 rows × 40 columns<\/p>\n",
       "<\/div>"
      ]
     },
     "metadata":{
      
     },
     "output_type":"display_data"
    }
   ],
   "metadata":{
    "datalore":{
     "type":"CODE",
     "hide_input_from_viewers":false,
     "hide_output_from_viewers":false,
     "node_id":"sKwt3QK65VBmilEn79W5Td"
    }
   }
  },
  {
   "cell_type":"code",
   "source":[
    "MJ1 = season_stats.loc[season_stats['Player'] == 'Michael Jordan*']\n",
    "MJ1\n",
    "\n",
    "## First MVP year 1978-88"
   ],
   "execution_count":42,
   "outputs":[
    {
     "data":{
      "text\/html":[
       "<div>\n",
       "<style scoped>\n",
       "    .dataframe tbody tr th:only-of-type {\n",
       "        vertical-align: middle;\n",
       "    }\n",
       "\n",
       "    .dataframe tbody tr th {\n",
       "        vertical-align: top;\n",
       "    }\n",
       "\n",
       "    .dataframe thead th {\n",
       "        text-align: right;\n",
       "    }\n",
       "<\/style>\n",
       "<table border=\"1\" class=\"dataframe\">\n",
       "  <thead>\n",
       "    <tr style=\"text-align: right;\">\n",
       "      <th><\/th>\n",
       "      <th>int64_field_0<\/th>\n",
       "      <th>Year<\/th>\n",
       "      <th>Player<\/th>\n",
       "      <th>Pos<\/th>\n",
       "      <th>Age<\/th>\n",
       "      <th>Tm<\/th>\n",
       "      <th>G<\/th>\n",
       "      <th>GS<\/th>\n",
       "      <th>MP<\/th>\n",
       "      <th>PER<\/th>\n",
       "      <th>...<\/th>\n",
       "      <th>FTA<\/th>\n",
       "      <th>FT_<\/th>\n",
       "      <th>ORB<\/th>\n",
       "      <th>DRB<\/th>\n",
       "      <th>TRB<\/th>\n",
       "      <th>AST<\/th>\n",
       "      <th>STL<\/th>\n",
       "      <th>BLK<\/th>\n",
       "      <th>TOV<\/th>\n",
       "      <th>PTS<\/th>\n",
       "    <\/tr>\n",
       "  <\/thead>\n",
       "  <tbody>\n",
       "    <tr>\n",
       "      <th>1195<\/th>\n",
       "      <td>7716<\/td>\n",
       "      <td>1985<\/td>\n",
       "      <td>Michael Jordan*<\/td>\n",
       "      <td>SG<\/td>\n",
       "      <td>21<\/td>\n",
       "      <td>CHI<\/td>\n",
       "      <td>82<\/td>\n",
       "      <td>82<\/td>\n",
       "      <td>3144<\/td>\n",
       "      <td>25.8<\/td>\n",
       "      <td>...<\/td>\n",
       "      <td>746<\/td>\n",
       "      <td>0.845<\/td>\n",
       "      <td>167<\/td>\n",
       "      <td>367<\/td>\n",
       "      <td>534<\/td>\n",
       "      <td>481<\/td>\n",
       "      <td>196<\/td>\n",
       "      <td>69<\/td>\n",
       "      <td>291<\/td>\n",
       "      <td>2313<\/td>\n",
       "    <\/tr>\n",
       "    <tr>\n",
       "      <th>1502<\/th>\n",
       "      <td>8094<\/td>\n",
       "      <td>1986<\/td>\n",
       "      <td>Michael Jordan*<\/td>\n",
       "      <td>SG<\/td>\n",
       "      <td>22<\/td>\n",
       "      <td>CHI<\/td>\n",
       "      <td>18<\/td>\n",
       "      <td>7<\/td>\n",
       "      <td>451<\/td>\n",
       "      <td>27.5<\/td>\n",
       "      <td>...<\/td>\n",
       "      <td>125<\/td>\n",
       "      <td>0.840<\/td>\n",
       "      <td>23<\/td>\n",
       "      <td>41<\/td>\n",
       "      <td>64<\/td>\n",
       "      <td>53<\/td>\n",
       "      <td>37<\/td>\n",
       "      <td>21<\/td>\n",
       "      <td>45<\/td>\n",
       "      <td>408<\/td>\n",
       "    <\/tr>\n",
       "    <tr>\n",
       "      <th>1873<\/th>\n",
       "      <td>8469<\/td>\n",
       "      <td>1987<\/td>\n",
       "      <td>Michael Jordan*<\/td>\n",
       "      <td>SG<\/td>\n",
       "      <td>23<\/td>\n",
       "      <td>CHI<\/td>\n",
       "      <td>82<\/td>\n",
       "      <td>82<\/td>\n",
       "      <td>3281<\/td>\n",
       "      <td>29.8<\/td>\n",
       "      <td>...<\/td>\n",
       "      <td>972<\/td>\n",
       "      <td>0.857<\/td>\n",
       "      <td>166<\/td>\n",
       "      <td>264<\/td>\n",
       "      <td>430<\/td>\n",
       "      <td>377<\/td>\n",
       "      <td>236<\/td>\n",
       "      <td>125<\/td>\n",
       "      <td>272<\/td>\n",
       "      <td>3041<\/td>\n",
       "    <\/tr>\n",
       "    <tr>\n",
       "      <th>2303<\/th>\n",
       "      <td>8869<\/td>\n",
       "      <td>1988<\/td>\n",
       "      <td>Michael Jordan*<\/td>\n",
       "      <td>SG<\/td>\n",
       "      <td>24<\/td>\n",
       "      <td>CHI<\/td>\n",
       "      <td>82<\/td>\n",
       "      <td>82<\/td>\n",
       "      <td>3311<\/td>\n",
       "      <td>31.7<\/td>\n",
       "      <td>...<\/td>\n",
       "      <td>860<\/td>\n",
       "      <td>0.841<\/td>\n",
       "      <td>139<\/td>\n",
       "      <td>310<\/td>\n",
       "      <td>449<\/td>\n",
       "      <td>485<\/td>\n",
       "      <td>259<\/td>\n",
       "      <td>131<\/td>\n",
       "      <td>252<\/td>\n",
       "      <td>2868<\/td>\n",
       "    <\/tr>\n",
       "    <tr>\n",
       "      <th>2800<\/th>\n",
       "      <td>9297<\/td>\n",
       "      <td>1989<\/td>\n",
       "      <td>Michael Jordan*<\/td>\n",
       "      <td>SG<\/td>\n",
       "      <td>25<\/td>\n",
       "      <td>CHI<\/td>\n",
       "      <td>81<\/td>\n",
       "      <td>81<\/td>\n",
       "      <td>3255<\/td>\n",
       "      <td>31.1<\/td>\n",
       "      <td>...<\/td>\n",
       "      <td>793<\/td>\n",
       "      <td>0.850<\/td>\n",
       "      <td>149<\/td>\n",
       "      <td>503<\/td>\n",
       "      <td>652<\/td>\n",
       "      <td>650<\/td>\n",
       "      <td>234<\/td>\n",
       "      <td>65<\/td>\n",
       "      <td>290<\/td>\n",
       "      <td>2633<\/td>\n",
       "    <\/tr>\n",
       "    <tr>\n",
       "      <th>3148<\/th>\n",
       "      <td>9747<\/td>\n",
       "      <td>1990<\/td>\n",
       "      <td>Michael Jordan*<\/td>\n",
       "      <td>SG<\/td>\n",
       "      <td>26<\/td>\n",
       "      <td>CHI<\/td>\n",
       "      <td>82<\/td>\n",
       "      <td>82<\/td>\n",
       "      <td>3197<\/td>\n",
       "      <td>31.2<\/td>\n",
       "      <td>...<\/td>\n",
       "      <td>699<\/td>\n",
       "      <td>0.848<\/td>\n",
       "      <td>143<\/td>\n",
       "      <td>422<\/td>\n",
       "      <td>565<\/td>\n",
       "      <td>519<\/td>\n",
       "      <td>227<\/td>\n",
       "      <td>54<\/td>\n",
       "      <td>247<\/td>\n",
       "      <td>2753<\/td>\n",
       "    <\/tr>\n",
       "    <tr>\n",
       "      <th>3670<\/th>\n",
       "      <td>10212<\/td>\n",
       "      <td>1991<\/td>\n",
       "      <td>Michael Jordan*<\/td>\n",
       "      <td>SG<\/td>\n",
       "      <td>27<\/td>\n",
       "      <td>CHI<\/td>\n",
       "      <td>82<\/td>\n",
       "      <td>82<\/td>\n",
       "      <td>3034<\/td>\n",
       "      <td>31.6<\/td>\n",
       "      <td>...<\/td>\n",
       "      <td>671<\/td>\n",
       "      <td>0.851<\/td>\n",
       "      <td>118<\/td>\n",
       "      <td>374<\/td>\n",
       "      <td>492<\/td>\n",
       "      <td>453<\/td>\n",
       "      <td>223<\/td>\n",
       "      <td>83<\/td>\n",
       "      <td>202<\/td>\n",
       "      <td>2580<\/td>\n",
       "    <\/tr>\n",
       "    <tr>\n",
       "      <th>4091<\/th>\n",
       "      <td>10666<\/td>\n",
       "      <td>1992<\/td>\n",
       "      <td>Michael Jordan*<\/td>\n",
       "      <td>SG<\/td>\n",
       "      <td>28<\/td>\n",
       "      <td>CHI<\/td>\n",
       "      <td>80<\/td>\n",
       "      <td>80<\/td>\n",
       "      <td>3102<\/td>\n",
       "      <td>27.7<\/td>\n",
       "      <td>...<\/td>\n",
       "      <td>590<\/td>\n",
       "      <td>0.832<\/td>\n",
       "      <td>91<\/td>\n",
       "      <td>420<\/td>\n",
       "      <td>511<\/td>\n",
       "      <td>489<\/td>\n",
       "      <td>182<\/td>\n",
       "      <td>75<\/td>\n",
       "      <td>200<\/td>\n",
       "      <td>2404<\/td>\n",
       "    <\/tr>\n",
       "    <tr>\n",
       "      <th>4614<\/th>\n",
       "      <td>11106<\/td>\n",
       "      <td>1993<\/td>\n",
       "      <td>Michael Jordan*<\/td>\n",
       "      <td>SG<\/td>\n",
       "      <td>29<\/td>\n",
       "      <td>CHI<\/td>\n",
       "      <td>78<\/td>\n",
       "      <td>78<\/td>\n",
       "      <td>3067<\/td>\n",
       "      <td>29.7<\/td>\n",
       "      <td>...<\/td>\n",
       "      <td>569<\/td>\n",
       "      <td>0.837<\/td>\n",
       "      <td>135<\/td>\n",
       "      <td>387<\/td>\n",
       "      <td>522<\/td>\n",
       "      <td>428<\/td>\n",
       "      <td>221<\/td>\n",
       "      <td>61<\/td>\n",
       "      <td>207<\/td>\n",
       "      <td>2541<\/td>\n",
       "    <\/tr>\n",
       "    <tr>\n",
       "      <th>5564<\/th>\n",
       "      <td>12048<\/td>\n",
       "      <td>1995<\/td>\n",
       "      <td>Michael Jordan*<\/td>\n",
       "      <td>SG<\/td>\n",
       "      <td>31<\/td>\n",
       "      <td>CHI<\/td>\n",
       "      <td>17<\/td>\n",
       "      <td>17<\/td>\n",
       "      <td>668<\/td>\n",
       "      <td>22.1<\/td>\n",
       "      <td>...<\/td>\n",
       "      <td>136<\/td>\n",
       "      <td>0.801<\/td>\n",
       "      <td>25<\/td>\n",
       "      <td>92<\/td>\n",
       "      <td>117<\/td>\n",
       "      <td>90<\/td>\n",
       "      <td>30<\/td>\n",
       "      <td>13<\/td>\n",
       "      <td>35<\/td>\n",
       "      <td>457<\/td>\n",
       "    <\/tr>\n",
       "    <tr>\n",
       "      <th>6086<\/th>\n",
       "      <td>12528<\/td>\n",
       "      <td>1996<\/td>\n",
       "      <td>Michael Jordan*<\/td>\n",
       "      <td>SG<\/td>\n",
       "      <td>32<\/td>\n",
       "      <td>CHI<\/td>\n",
       "      <td>82<\/td>\n",
       "      <td>82<\/td>\n",
       "      <td>3090<\/td>\n",
       "      <td>29.4<\/td>\n",
       "      <td>...<\/td>\n",
       "      <td>657<\/td>\n",
       "      <td>0.834<\/td>\n",
       "      <td>148<\/td>\n",
       "      <td>395<\/td>\n",
       "      <td>543<\/td>\n",
       "      <td>352<\/td>\n",
       "      <td>180<\/td>\n",
       "      <td>42<\/td>\n",
       "      <td>197<\/td>\n",
       "      <td>2491<\/td>\n",
       "    <\/tr>\n",
       "    <tr>\n",
       "      <th>6395<\/th>\n",
       "      <td>13096<\/td>\n",
       "      <td>1997<\/td>\n",
       "      <td>Michael Jordan*<\/td>\n",
       "      <td>SG<\/td>\n",
       "      <td>33<\/td>\n",
       "      <td>CHI<\/td>\n",
       "      <td>82<\/td>\n",
       "      <td>82<\/td>\n",
       "      <td>3106<\/td>\n",
       "      <td>27.8<\/td>\n",
       "      <td>...<\/td>\n",
       "      <td>576<\/td>\n",
       "      <td>0.833<\/td>\n",
       "      <td>113<\/td>\n",
       "      <td>369<\/td>\n",
       "      <td>482<\/td>\n",
       "      <td>352<\/td>\n",
       "      <td>140<\/td>\n",
       "      <td>44<\/td>\n",
       "      <td>166<\/td>\n",
       "      <td>2431<\/td>\n",
       "    <\/tr>\n",
       "    <tr>\n",
       "      <th>7090<\/th>\n",
       "      <td>13654<\/td>\n",
       "      <td>1998<\/td>\n",
       "      <td>Michael Jordan*<\/td>\n",
       "      <td>SG<\/td>\n",
       "      <td>34<\/td>\n",
       "      <td>CHI<\/td>\n",
       "      <td>82<\/td>\n",
       "      <td>82<\/td>\n",
       "      <td>3181<\/td>\n",
       "      <td>25.2<\/td>\n",
       "      <td>...<\/td>\n",
       "      <td>721<\/td>\n",
       "      <td>0.784<\/td>\n",
       "      <td>130<\/td>\n",
       "      <td>345<\/td>\n",
       "      <td>475<\/td>\n",
       "      <td>283<\/td>\n",
       "      <td>141<\/td>\n",
       "      <td>45<\/td>\n",
       "      <td>185<\/td>\n",
       "      <td>2357<\/td>\n",
       "    <\/tr>\n",
       "    <tr>\n",
       "      <th>9212<\/th>\n",
       "      <td>15751<\/td>\n",
       "      <td>2002<\/td>\n",
       "      <td>Michael Jordan*<\/td>\n",
       "      <td>SF<\/td>\n",
       "      <td>38<\/td>\n",
       "      <td>WAS<\/td>\n",
       "      <td>60<\/td>\n",
       "      <td>53<\/td>\n",
       "      <td>2093<\/td>\n",
       "      <td>20.7<\/td>\n",
       "      <td>...<\/td>\n",
       "      <td>333<\/td>\n",
       "      <td>0.790<\/td>\n",
       "      <td>50<\/td>\n",
       "      <td>289<\/td>\n",
       "      <td>339<\/td>\n",
       "      <td>310<\/td>\n",
       "      <td>85<\/td>\n",
       "      <td>26<\/td>\n",
       "      <td>162<\/td>\n",
       "      <td>1375<\/td>\n",
       "    <\/tr>\n",
       "    <tr>\n",
       "      <th>9567<\/th>\n",
       "      <td>16240<\/td>\n",
       "      <td>2003<\/td>\n",
       "      <td>Michael Jordan*<\/td>\n",
       "      <td>SF<\/td>\n",
       "      <td>39<\/td>\n",
       "      <td>WAS<\/td>\n",
       "      <td>82<\/td>\n",
       "      <td>67<\/td>\n",
       "      <td>3031<\/td>\n",
       "      <td>19.3<\/td>\n",
       "      <td>...<\/td>\n",
       "      <td>324<\/td>\n",
       "      <td>0.821<\/td>\n",
       "      <td>71<\/td>\n",
       "      <td>426<\/td>\n",
       "      <td>497<\/td>\n",
       "      <td>311<\/td>\n",
       "      <td>123<\/td>\n",
       "      <td>39<\/td>\n",
       "      <td>173<\/td>\n",
       "      <td>1640<\/td>\n",
       "    <\/tr>\n",
       "  <\/tbody>\n",
       "<\/table>\n",
       "<p>15 rows × 40 columns<\/p>\n",
       "<\/div>"
      ]
     },
     "metadata":{
      
     },
     "output_type":"display_data"
    }
   ],
   "metadata":{
    "datalore":{
     "type":"CODE",
     "hide_input_from_viewers":false,
     "hide_output_from_viewers":false,
     "node_id":"cWeX98BFah0BaOUVWyzQwm"
    }
   }
  },
  {
   "cell_type":"code",
   "source":[
    "MJ2 = MJ1.drop(1502)\n",
    "MJ = MJ2.drop(5564)\n",
    "MJ"
   ],
   "execution_count":43,
   "outputs":[
    {
     "data":{
      "text\/html":[
       "<div>\n",
       "<style scoped>\n",
       "    .dataframe tbody tr th:only-of-type {\n",
       "        vertical-align: middle;\n",
       "    }\n",
       "\n",
       "    .dataframe tbody tr th {\n",
       "        vertical-align: top;\n",
       "    }\n",
       "\n",
       "    .dataframe thead th {\n",
       "        text-align: right;\n",
       "    }\n",
       "<\/style>\n",
       "<table border=\"1\" class=\"dataframe\">\n",
       "  <thead>\n",
       "    <tr style=\"text-align: right;\">\n",
       "      <th><\/th>\n",
       "      <th>int64_field_0<\/th>\n",
       "      <th>Year<\/th>\n",
       "      <th>Player<\/th>\n",
       "      <th>Pos<\/th>\n",
       "      <th>Age<\/th>\n",
       "      <th>Tm<\/th>\n",
       "      <th>G<\/th>\n",
       "      <th>GS<\/th>\n",
       "      <th>MP<\/th>\n",
       "      <th>PER<\/th>\n",
       "      <th>...<\/th>\n",
       "      <th>FTA<\/th>\n",
       "      <th>FT_<\/th>\n",
       "      <th>ORB<\/th>\n",
       "      <th>DRB<\/th>\n",
       "      <th>TRB<\/th>\n",
       "      <th>AST<\/th>\n",
       "      <th>STL<\/th>\n",
       "      <th>BLK<\/th>\n",
       "      <th>TOV<\/th>\n",
       "      <th>PTS<\/th>\n",
       "    <\/tr>\n",
       "  <\/thead>\n",
       "  <tbody>\n",
       "    <tr>\n",
       "      <th>1195<\/th>\n",
       "      <td>7716<\/td>\n",
       "      <td>1985<\/td>\n",
       "      <td>Michael Jordan*<\/td>\n",
       "      <td>SG<\/td>\n",
       "      <td>21<\/td>\n",
       "      <td>CHI<\/td>\n",
       "      <td>82<\/td>\n",
       "      <td>82<\/td>\n",
       "      <td>3144<\/td>\n",
       "      <td>25.8<\/td>\n",
       "      <td>...<\/td>\n",
       "      <td>746<\/td>\n",
       "      <td>0.845<\/td>\n",
       "      <td>167<\/td>\n",
       "      <td>367<\/td>\n",
       "      <td>534<\/td>\n",
       "      <td>481<\/td>\n",
       "      <td>196<\/td>\n",
       "      <td>69<\/td>\n",
       "      <td>291<\/td>\n",
       "      <td>2313<\/td>\n",
       "    <\/tr>\n",
       "    <tr>\n",
       "      <th>1873<\/th>\n",
       "      <td>8469<\/td>\n",
       "      <td>1987<\/td>\n",
       "      <td>Michael Jordan*<\/td>\n",
       "      <td>SG<\/td>\n",
       "      <td>23<\/td>\n",
       "      <td>CHI<\/td>\n",
       "      <td>82<\/td>\n",
       "      <td>82<\/td>\n",
       "      <td>3281<\/td>\n",
       "      <td>29.8<\/td>\n",
       "      <td>...<\/td>\n",
       "      <td>972<\/td>\n",
       "      <td>0.857<\/td>\n",
       "      <td>166<\/td>\n",
       "      <td>264<\/td>\n",
       "      <td>430<\/td>\n",
       "      <td>377<\/td>\n",
       "      <td>236<\/td>\n",
       "      <td>125<\/td>\n",
       "      <td>272<\/td>\n",
       "      <td>3041<\/td>\n",
       "    <\/tr>\n",
       "    <tr>\n",
       "      <th>2303<\/th>\n",
       "      <td>8869<\/td>\n",
       "      <td>1988<\/td>\n",
       "      <td>Michael Jordan*<\/td>\n",
       "      <td>SG<\/td>\n",
       "      <td>24<\/td>\n",
       "      <td>CHI<\/td>\n",
       "      <td>82<\/td>\n",
       "      <td>82<\/td>\n",
       "      <td>3311<\/td>\n",
       "      <td>31.7<\/td>\n",
       "      <td>...<\/td>\n",
       "      <td>860<\/td>\n",
       "      <td>0.841<\/td>\n",
       "      <td>139<\/td>\n",
       "      <td>310<\/td>\n",
       "      <td>449<\/td>\n",
       "      <td>485<\/td>\n",
       "      <td>259<\/td>\n",
       "      <td>131<\/td>\n",
       "      <td>252<\/td>\n",
       "      <td>2868<\/td>\n",
       "    <\/tr>\n",
       "    <tr>\n",
       "      <th>2800<\/th>\n",
       "      <td>9297<\/td>\n",
       "      <td>1989<\/td>\n",
       "      <td>Michael Jordan*<\/td>\n",
       "      <td>SG<\/td>\n",
       "      <td>25<\/td>\n",
       "      <td>CHI<\/td>\n",
       "      <td>81<\/td>\n",
       "      <td>81<\/td>\n",
       "      <td>3255<\/td>\n",
       "      <td>31.1<\/td>\n",
       "      <td>...<\/td>\n",
       "      <td>793<\/td>\n",
       "      <td>0.850<\/td>\n",
       "      <td>149<\/td>\n",
       "      <td>503<\/td>\n",
       "      <td>652<\/td>\n",
       "      <td>650<\/td>\n",
       "      <td>234<\/td>\n",
       "      <td>65<\/td>\n",
       "      <td>290<\/td>\n",
       "      <td>2633<\/td>\n",
       "    <\/tr>\n",
       "    <tr>\n",
       "      <th>3148<\/th>\n",
       "      <td>9747<\/td>\n",
       "      <td>1990<\/td>\n",
       "      <td>Michael Jordan*<\/td>\n",
       "      <td>SG<\/td>\n",
       "      <td>26<\/td>\n",
       "      <td>CHI<\/td>\n",
       "      <td>82<\/td>\n",
       "      <td>82<\/td>\n",
       "      <td>3197<\/td>\n",
       "      <td>31.2<\/td>\n",
       "      <td>...<\/td>\n",
       "      <td>699<\/td>\n",
       "      <td>0.848<\/td>\n",
       "      <td>143<\/td>\n",
       "      <td>422<\/td>\n",
       "      <td>565<\/td>\n",
       "      <td>519<\/td>\n",
       "      <td>227<\/td>\n",
       "      <td>54<\/td>\n",
       "      <td>247<\/td>\n",
       "      <td>2753<\/td>\n",
       "    <\/tr>\n",
       "    <tr>\n",
       "      <th>3670<\/th>\n",
       "      <td>10212<\/td>\n",
       "      <td>1991<\/td>\n",
       "      <td>Michael Jordan*<\/td>\n",
       "      <td>SG<\/td>\n",
       "      <td>27<\/td>\n",
       "      <td>CHI<\/td>\n",
       "      <td>82<\/td>\n",
       "      <td>82<\/td>\n",
       "      <td>3034<\/td>\n",
       "      <td>31.6<\/td>\n",
       "      <td>...<\/td>\n",
       "      <td>671<\/td>\n",
       "      <td>0.851<\/td>\n",
       "      <td>118<\/td>\n",
       "      <td>374<\/td>\n",
       "      <td>492<\/td>\n",
       "      <td>453<\/td>\n",
       "      <td>223<\/td>\n",
       "      <td>83<\/td>\n",
       "      <td>202<\/td>\n",
       "      <td>2580<\/td>\n",
       "    <\/tr>\n",
       "    <tr>\n",
       "      <th>4091<\/th>\n",
       "      <td>10666<\/td>\n",
       "      <td>1992<\/td>\n",
       "      <td>Michael Jordan*<\/td>\n",
       "      <td>SG<\/td>\n",
       "      <td>28<\/td>\n",
       "      <td>CHI<\/td>\n",
       "      <td>80<\/td>\n",
       "      <td>80<\/td>\n",
       "      <td>3102<\/td>\n",
       "      <td>27.7<\/td>\n",
       "      <td>...<\/td>\n",
       "      <td>590<\/td>\n",
       "      <td>0.832<\/td>\n",
       "      <td>91<\/td>\n",
       "      <td>420<\/td>\n",
       "      <td>511<\/td>\n",
       "      <td>489<\/td>\n",
       "      <td>182<\/td>\n",
       "      <td>75<\/td>\n",
       "      <td>200<\/td>\n",
       "      <td>2404<\/td>\n",
       "    <\/tr>\n",
       "    <tr>\n",
       "      <th>4614<\/th>\n",
       "      <td>11106<\/td>\n",
       "      <td>1993<\/td>\n",
       "      <td>Michael Jordan*<\/td>\n",
       "      <td>SG<\/td>\n",
       "      <td>29<\/td>\n",
       "      <td>CHI<\/td>\n",
       "      <td>78<\/td>\n",
       "      <td>78<\/td>\n",
       "      <td>3067<\/td>\n",
       "      <td>29.7<\/td>\n",
       "      <td>...<\/td>\n",
       "      <td>569<\/td>\n",
       "      <td>0.837<\/td>\n",
       "      <td>135<\/td>\n",
       "      <td>387<\/td>\n",
       "      <td>522<\/td>\n",
       "      <td>428<\/td>\n",
       "      <td>221<\/td>\n",
       "      <td>61<\/td>\n",
       "      <td>207<\/td>\n",
       "      <td>2541<\/td>\n",
       "    <\/tr>\n",
       "    <tr>\n",
       "      <th>6086<\/th>\n",
       "      <td>12528<\/td>\n",
       "      <td>1996<\/td>\n",
       "      <td>Michael Jordan*<\/td>\n",
       "      <td>SG<\/td>\n",
       "      <td>32<\/td>\n",
       "      <td>CHI<\/td>\n",
       "      <td>82<\/td>\n",
       "      <td>82<\/td>\n",
       "      <td>3090<\/td>\n",
       "      <td>29.4<\/td>\n",
       "      <td>...<\/td>\n",
       "      <td>657<\/td>\n",
       "      <td>0.834<\/td>\n",
       "      <td>148<\/td>\n",
       "      <td>395<\/td>\n",
       "      <td>543<\/td>\n",
       "      <td>352<\/td>\n",
       "      <td>180<\/td>\n",
       "      <td>42<\/td>\n",
       "      <td>197<\/td>\n",
       "      <td>2491<\/td>\n",
       "    <\/tr>\n",
       "    <tr>\n",
       "      <th>6395<\/th>\n",
       "      <td>13096<\/td>\n",
       "      <td>1997<\/td>\n",
       "      <td>Michael Jordan*<\/td>\n",
       "      <td>SG<\/td>\n",
       "      <td>33<\/td>\n",
       "      <td>CHI<\/td>\n",
       "      <td>82<\/td>\n",
       "      <td>82<\/td>\n",
       "      <td>3106<\/td>\n",
       "      <td>27.8<\/td>\n",
       "      <td>...<\/td>\n",
       "      <td>576<\/td>\n",
       "      <td>0.833<\/td>\n",
       "      <td>113<\/td>\n",
       "      <td>369<\/td>\n",
       "      <td>482<\/td>\n",
       "      <td>352<\/td>\n",
       "      <td>140<\/td>\n",
       "      <td>44<\/td>\n",
       "      <td>166<\/td>\n",
       "      <td>2431<\/td>\n",
       "    <\/tr>\n",
       "    <tr>\n",
       "      <th>7090<\/th>\n",
       "      <td>13654<\/td>\n",
       "      <td>1998<\/td>\n",
       "      <td>Michael Jordan*<\/td>\n",
       "      <td>SG<\/td>\n",
       "      <td>34<\/td>\n",
       "      <td>CHI<\/td>\n",
       "      <td>82<\/td>\n",
       "      <td>82<\/td>\n",
       "      <td>3181<\/td>\n",
       "      <td>25.2<\/td>\n",
       "      <td>...<\/td>\n",
       "      <td>721<\/td>\n",
       "      <td>0.784<\/td>\n",
       "      <td>130<\/td>\n",
       "      <td>345<\/td>\n",
       "      <td>475<\/td>\n",
       "      <td>283<\/td>\n",
       "      <td>141<\/td>\n",
       "      <td>45<\/td>\n",
       "      <td>185<\/td>\n",
       "      <td>2357<\/td>\n",
       "    <\/tr>\n",
       "    <tr>\n",
       "      <th>9212<\/th>\n",
       "      <td>15751<\/td>\n",
       "      <td>2002<\/td>\n",
       "      <td>Michael Jordan*<\/td>\n",
       "      <td>SF<\/td>\n",
       "      <td>38<\/td>\n",
       "      <td>WAS<\/td>\n",
       "      <td>60<\/td>\n",
       "      <td>53<\/td>\n",
       "      <td>2093<\/td>\n",
       "      <td>20.7<\/td>\n",
       "      <td>...<\/td>\n",
       "      <td>333<\/td>\n",
       "      <td>0.790<\/td>\n",
       "      <td>50<\/td>\n",
       "      <td>289<\/td>\n",
       "      <td>339<\/td>\n",
       "      <td>310<\/td>\n",
       "      <td>85<\/td>\n",
       "      <td>26<\/td>\n",
       "      <td>162<\/td>\n",
       "      <td>1375<\/td>\n",
       "    <\/tr>\n",
       "    <tr>\n",
       "      <th>9567<\/th>\n",
       "      <td>16240<\/td>\n",
       "      <td>2003<\/td>\n",
       "      <td>Michael Jordan*<\/td>\n",
       "      <td>SF<\/td>\n",
       "      <td>39<\/td>\n",
       "      <td>WAS<\/td>\n",
       "      <td>82<\/td>\n",
       "      <td>67<\/td>\n",
       "      <td>3031<\/td>\n",
       "      <td>19.3<\/td>\n",
       "      <td>...<\/td>\n",
       "      <td>324<\/td>\n",
       "      <td>0.821<\/td>\n",
       "      <td>71<\/td>\n",
       "      <td>426<\/td>\n",
       "      <td>497<\/td>\n",
       "      <td>311<\/td>\n",
       "      <td>123<\/td>\n",
       "      <td>39<\/td>\n",
       "      <td>173<\/td>\n",
       "      <td>1640<\/td>\n",
       "    <\/tr>\n",
       "  <\/tbody>\n",
       "<\/table>\n",
       "<p>13 rows × 40 columns<\/p>\n",
       "<\/div>"
      ]
     },
     "metadata":{
      
     },
     "output_type":"display_data"
    }
   ],
   "metadata":{
    "datalore":{
     "type":"CODE",
     "hide_input_from_viewers":false,
     "hide_output_from_viewers":false,
     "node_id":"wUltIzdjHca2HJBbEY1IPc"
    }
   }
  },
  {
   "cell_type":"code",
   "source":[
    "## Michael Jordan and Bron Offensive stats\n",
    "mj_points = MJ['PTS']\n",
    "mj_ast = MJ['AST']\n",
    "mj_fgp = MJ['FG']\/MJ['FGA'] * 100\n",
    "mj_ftp = MJ['FT']\/MJ['FTA'] * 100\n",
    "mj_tov = MJ['TOV']\n",
    "\n",
    "\n",
    "\n",
    "mjx = MJ['Year']\n",
    "\n",
    "xftp = [10,20,30,40,50,60,65,70,75,80,85,90,95]\n",
    "\n",
    "bron_points = Bron['PTS']\n",
    "bron_ast = Bron['AST']\n",
    "bron_fgp = Bron['FG']\/Bron['FGA'] * 100\n",
    "bron_ftp = Bron['FT']\/Bron['FTA'] * 100\n",
    "bron_tov = Bron['TOV']\n",
    "brx = Bron['Year']"
   ],
   "execution_count":44,
   "outputs":[
    
   ],
   "metadata":{
    "datalore":{
     "type":"CODE",
     "hide_input_from_viewers":false,
     "hide_output_from_viewers":false,
     "node_id":"DBb2aSdEZnsGG6gpco4bwV"
    }
   }
  },
  {
   "cell_type":"code",
   "source":[
    "bron_fgp"
   ],
   "execution_count":45,
   "outputs":[
    {
     "data":{
      "text\/html":[
       
      ]
     },
     "metadata":{
      
     },
     "output_type":"display_data"
    }
   ],
   "metadata":{
    "datalore":{
     "type":"CODE",
     "hide_input_from_viewers":false,
     "hide_output_from_viewers":false,
     "node_id":"gpDt8phFs4HkOopZppgysL"
    }
   }
  },
  {
   "cell_type":"code",
   "source":[
    "from matplotlib.pyplot import figure\n",
    "\n",
    "plt.rcParams['figure.figsize'] = [17,13]"
   ],
   "execution_count":46,
   "outputs":[
    
   ],
   "metadata":{
    "datalore":{
     "type":"CODE",
     "hide_input_from_viewers":false,
     "hide_output_from_viewers":false,
     "node_id":"PVz3hWekceoz9TQ7ZJZpOC"
    }
   }
  },
  {
   "cell_type":"code",
   "source":[
    "\n",
    "## MJ VS Bron Offensive stats\n",
    "fig, ax = plt.subplots(3,2)\n",
    "##fig.set_facecolor('purple')\n",
    "\n",
    "fig.set_facecolor(\"#E9E4D4\")\n",
    "\n",
    "\n",
    "ax[0,0].plot(mjx,mj_points,c=\"#000000\")\n",
    "ax[0,0].set_title(\"Michael's Points\")\n",
    "##ax[0,0].set_facecolor\n",
    "\n",
    "ax[0,1].plot(brx,bron_points,c=\"#860038\")\n",
    "ax[0,1].set_title(\"LeBron's Points\")\n",
    "\n",
    "\n",
    "ax[1,0].plot(mjx,mj_ast,c=\"#CE1141\")\n",
    "ax[1,0].set_title(\"Michael's Assists\")\n",
    "\n",
    "ax[1,1].plot(brx,bron_ast,c=\"#FDBB30\")\n",
    "ax[1,1].set_title('Lebron Assist')\n",
    "\n",
    "ax[2,0].plot(mjx,mj_tov,c=\"#000080\")\n",
    "ax[2,0].set_title(\"Michael's Turnovers\")\n",
    "\n",
    "ax[2,1].plot(brx,bron_tov,c=\"#041E42\")\n",
    "ax[2,1].set_title(\"LeBron's Turnovers\")\n",
    "##plt.stackplot(x,mj_points,bron_points, labels=['Michael Jordan','LeBron James'])"
   ],
   "execution_count":47,
   "outputs":[
    {
     "data":{
      "text\/plain":[
       "Text(0.5, 1.0, \"LeBron's Turnovers\")"
      ]
     },
     "metadata":{
      
     },
     "output_type":"display_data"
    },
    {
     "data":{
      "image\/png":"[encoded data removed]"
     },
     "metadata":{
      "image\/png":{
       
      }
     },
     "output_type":"display_data"
    }
   ],
   "metadata":{
    "datalore":{
     "type":"CODE",
     "hide_input_from_viewers":false,
     "hide_output_from_viewers":false,
     "node_id":"7PrkS0IROfLIL1r9ylt8jn"
    }
   }
  },
  {
   "cell_type":"markdown",
   "source":[
    "1. How has the average height of NBA players changed through out each decade per position?\n",
    "   \n",
    "   **As indicated by the visualization above, the heights of NBA players have steadily increased every year.** \n",
    "\n",
    "\n",
    "2. How has the average weight changed of NBA players throughout the decades?\n",
    "\n",
    "    **Average weight has gone up for NBA players by each decade. we can see it increased through every decade but the reason there \n",
    "    was a decline in the 2010s was because there was complete data to calculate the whole weight gain from 2010-2020 in this dataset.** \n",
    "\n",
    "3. Which University has the most players in the NBA?\n",
    "   \n",
    "   **The university with the most NBA players is University of California, Los Angeles (UCLA).**\n",
    "\n",
    "\n",
    "4. How has the average age of NBA players changed over the years?\n",
    "\n",
    "    **Age of NBA players has stayed relatively the same. We can see in the distribution that there majority of players who are in their 20s that are in the league and the a steady decline with players in their 30s.**\n",
    "\n",
    "5. Which position has the most points in this data set?\n",
    "    \n",
    "    **Shooting guards on average have the most points in this dataset.**\n",
    "\n",
    "\n",
    "6. Which state has the most NBA players?\n",
    "\n",
    "    **Califorinia has the most NBA players followed by New York and Illinois.**\n",
    "\n",
    "7. What were Lebron's stats like in 2012? \n",
    "\n",
    "    **Lebron's stats in 2012 were down compared to his previous years because he had to reduce his points and assist playing with dwayne wade and Chris Bosh. We can see by the charts that his averages started going back up after he left Miami and went back to Cleveland because his role was increased again.**\n",
    "\n",
    "8. MJ Vs Bron career stat comparison"
   ],
   "attachments":{
    
   },
   "metadata":{
    "datalore":{
     "type":"MD",
     "hide_input_from_viewers":false,
     "hide_output_from_viewers":false,
     "node_id":"3VlVRIrQomMugzX31pacFu"
    }
   }
  },
  {
   "cell_type":"code",
   "source":[
    
   ],
   "execution_count":null,
   "outputs":[
    
   ],
   "metadata":{
    "datalore":{
     "type":"CODE",
     "hide_input_from_viewers":false,
     "hide_output_from_viewers":false,
     "node_id":"qOPMiWJAcCZNMxalX6K7Ta"
    }
   }
  }
 ],
 "metadata":{
  "kernelspec":{
   "display_name":"Python",
   "language":"python",
   "name":"python"
  },
  "datalore":{
   "version":1,
   "computation_mode":"JUPYTER",
   "package_manager":"pip",
   "base_environment":"default",
   "packages":[
    {
     "name":"patches",
     "source":"PIP"
    },
    {
     "name":"ax",
     "source":"PIP"
    },
    {
     "name":"wordcloud",
     "source":"PIP"
    },
    {
     "name":"mpltools",
     "source":"PIP"
    },
    {
     "name":"squarify",
     "version":"0.4.3",
     "source":"PIP"
    }
   ]
  }
 },
 "nbformat":4,
 "nbformat_minor":4
}